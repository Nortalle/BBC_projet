{
 "cells": [
  {
   "cell_type": "markdown",
   "metadata": {},
   "source": [
    "# Test pour prédire le type de cancer (microarray data)\n",
    "Flückiger Nathan, Vincent Guidoux et Joel Kaufmann"
   ]
  },
  {
   "cell_type": "markdown",
   "metadata": {},
   "source": [
    "## Préparation des données"
   ]
  },
  {
   "cell_type": "markdown",
   "metadata": {},
   "source": [
    "### Importation des bibliothèques"
   ]
  },
  {
   "cell_type": "code",
   "execution_count": 1,
   "metadata": {},
   "outputs": [],
   "source": [
    "import os\n",
    "import time\n",
    "import numpy as np\n",
    "import pylab as plt\n",
    "import pandas as pd\n",
    "\n",
    "from Bio import Geo\n",
    "\n",
    "from sklearn import svm\n",
    "from sklearn import tree\n",
    "from sklearn.svm import SVR\n",
    "from sklearn import linear_model\n",
    "from sklearn.feature_selection import RFE\n",
    "from sklearn.metrics import accuracy_score\n",
    "from sklearn.metrics import confusion_matrix\n",
    "from sklearn.linear_model import LinearRegression\n",
    "from sklearn.feature_selection import SelectKBest\n",
    "from sklearn.feature_selection import f_regression\n",
    "from sklearn.utils.multiclass import unique_labels\n",
    "from sklearn.neighbors import KNeighborsClassifier\n",
    "from sklearn.model_selection import train_test_split\n",
    "from sklearn.feature_selection import VarianceThreshold\n",
    "from sklearn.feature_selection import mutual_info_regression\n",
    "\n",
    "%matplotlib inline"
   ]
  },
  {
   "cell_type": "code",
   "execution_count": 2,
   "metadata": {},
   "outputs": [],
   "source": [
    "def plot_confusion_matrix(y_true, y_pred, classes,\n",
    "                          normalize=False,\n",
    "                          title=None,\n",
    "                          cmap=plt.cm.Blues):\n",
    "    \"\"\"\n",
    "    This function prints and plots the confusion matrix.\n",
    "    Normalization can be applied by setting `normalize=True`.\n",
    "    \"\"\"\n",
    "    if not title:\n",
    "        if normalize:\n",
    "            title = 'Normalized confusion matrix'\n",
    "        else:\n",
    "            title = 'Confusion matrix, without normalization'\n",
    "\n",
    "    # Compute confusion matrix\n",
    "    cm = confusion_matrix(y_true, y_pred)\n",
    "    # Only use the labels that appear in the data\n",
    "    if normalize:\n",
    "        cm = cm.astype('float') / cm.sum(axis=1)[:, np.newaxis]\n",
    "\n",
    "#     print(cm)\n",
    "\n",
    "    fig, ax = plt.subplots()\n",
    "    im = ax.imshow(cm, interpolation='nearest', cmap=cmap)\n",
    "    ax.figure.colorbar(im, ax=ax)\n",
    "    # We want to show all ticks...\n",
    "    ax.set(xticks=np.arange(cm.shape[1]),\n",
    "           yticks=np.arange(cm.shape[0]),\n",
    "           # ... and label them with the respective list entries\n",
    "           xticklabels=classes, yticklabels=classes,\n",
    "           title=title,\n",
    "           ylabel='True label',\n",
    "           xlabel='Predicted label')\n",
    "\n",
    "    # Rotate the tick labels and set their alignment.\n",
    "    plt.setp(ax.get_xticklabels(), rotation=45, ha=\"right\",\n",
    "             rotation_mode=\"anchor\")\n",
    "\n",
    "    # Loop over data dimensions and create text annotations.\n",
    "    fmt = '.2f' if normalize else 'd'\n",
    "    thresh = cm.max() / 2.\n",
    "    for i in range(cm.shape[0]):\n",
    "        for j in range(cm.shape[1]):\n",
    "            ax.text(j, i, format(cm[i, j], fmt),\n",
    "                    ha=\"center\", va=\"center\",\n",
    "                    color=\"white\" if cm[i, j] > thresh else \"black\")\n",
    "    fig.tight_layout()\n",
    "    return ax"
   ]
  },
  {
   "cell_type": "markdown",
   "metadata": {},
   "source": [
    "### Importation des données"
   ]
  },
  {
   "cell_type": "code",
   "execution_count": 3,
   "metadata": {},
   "outputs": [],
   "source": [
    "def load_geo(myfile):\n",
    "    handle = open(myfile)\n",
    "    records = Geo.parse(handle)\n",
    "    return records"
   ]
  },
  {
   "cell_type": "code",
   "execution_count": 4,
   "metadata": {},
   "outputs": [],
   "source": [
    "records = load_geo('GDS4296.soft')\n",
    "\n",
    "# description of each condition (cell type)\n",
    "id_cond = {}  \n",
    "\n",
    "cancer_set = set()\n",
    "\n",
    "# loop over records\n",
    "for r in records:    \n",
    "    \n",
    "    rea = r.entity_attributes\n",
    "    \n",
    "    #if rea.has_key('subset_sample_id'): \n",
    "    if 'subset_sample_id' in rea:\n",
    "        \n",
    "        # find conditions associated with each cell type\n",
    "        if rea['subset_type']=='disease state':\n",
    "            sample_list = rea['subset_sample_id'].split(',')\n",
    "            desc = rea['subset_description']\n",
    "            cancer_set.add(desc)\n",
    "            for sample in sample_list:\n",
    "                id_cond[sample] = desc\n",
    "\n",
    "    #if rea.has_key('dataset_table_begin'): # it's the gene expression data\n",
    "    if 'dataset_table_begin' in rea:\n",
    "        data = r.table_rows\n",
    "\n",
    "# converts data to an array (more practical to handle)\n",
    "data = np.array(data) "
   ]
  },
  {
   "cell_type": "markdown",
   "metadata": {},
   "source": [
    "**Combien y'a-t-il de cellules cancereuses en tout ?**"
   ]
  },
  {
   "cell_type": "code",
   "execution_count": 5,
   "metadata": {},
   "outputs": [
    {
     "data": {
      "text/plain": [
       "174"
      ]
     },
     "execution_count": 5,
     "metadata": {},
     "output_type": "execute_result"
    }
   ],
   "source": [
    "len(id_cond)"
   ]
  },
  {
   "cell_type": "markdown",
   "metadata": {},
   "source": [
    "**Comment sont-elles réparties ?**"
   ]
  },
  {
   "cell_type": "code",
   "execution_count": 6,
   "metadata": {},
   "outputs": [
    {
     "data": {
      "text/plain": [
       "{'Adenocarcinoma': 60,\n",
       " 'Acute lymphoblastic leukemia': 6,\n",
       " 'Astrocytoma': 3,\n",
       " 'Chronic myelogenous leukemia': 3,\n",
       " 'Carcinoma': 12,\n",
       " 'Carcinosarcoma': 3,\n",
       " 'Clear cell carcinoma': 2,\n",
       " 'Cystoadenocarcinoma': 3,\n",
       " 'Ductal carcinoma': 3,\n",
       " 'Glial cell neoplasm': 3,\n",
       " 'Glioblastoma': 12,\n",
       " 'Large cell carcinoma': 6,\n",
       " 'Lymphoma': 3,\n",
       " 'Malignant amelanotic melanoma': 3,\n",
       " 'Malignant melanotic melanoma': 11,\n",
       " 'Melanotic melanoma': 9,\n",
       " 'Myeloma': 3,\n",
       " 'Papillary infiltrating ductal carcinoma': 3,\n",
       " 'Pro myelocytic leukemia': 3,\n",
       " 'Renal spindle cell carcinoma': 3,\n",
       " 'Renal cell carcinoma': 9,\n",
       " 'Small cell bronchioalveolar carcinoma': 3,\n",
       " 'Squamous cell carcinoma': 2,\n",
       " 'Hypernephroma': 3,\n",
       " 'Infiltrating ductal carcinoma': 3}"
      ]
     },
     "execution_count": 6,
     "metadata": {},
     "output_type": "execute_result"
    }
   ],
   "source": [
    "disease_repartition = {}\n",
    "\n",
    "for disease in id_cond.values():\n",
    "    if disease in disease_repartition.keys():\n",
    "        disease_repartition[disease] = disease_repartition[disease] + 1\n",
    "    else:\n",
    "        disease_repartition[disease] = 1\n",
    "        \n",
    "disease_repartition"
   ]
  },
  {
   "cell_type": "markdown",
   "metadata": {},
   "source": [
    "Aux vues de cette répartition, il nous faut regrouper ces différentes type de cellules, car certains, comme `Squamous cell carcinoma` n'ont que deux cellules, et on ne peut pas se permettre d'en mettre une dans le train-set et une dans le test-set, ce n'est pas assez. Nous allons nous renseigner comment regrouper ces données."
   ]
  },
  {
   "cell_type": "code",
   "execution_count": 7,
   "metadata": {},
   "outputs": [],
   "source": [
    "def category_repartition(category):\n",
    "    \"\"\"Vous nous aider à voir la répartition des différents échantillons dans les catégories que nous allons définir\"\"\"\n",
    "    total = 0\n",
    "    for disease in category:\n",
    "        total += disease_repartition[disease]\n",
    "        \n",
    "    return total"
   ]
  },
  {
   "cell_type": "markdown",
   "metadata": {},
   "source": [
    "**5 catégories ont été choisies :**"
   ]
  },
  {
   "cell_type": "markdown",
   "metadata": {},
   "source": [
    "Adenocarcinoma :"
   ]
  },
  {
   "cell_type": "code",
   "execution_count": 8,
   "metadata": {},
   "outputs": [
    {
     "name": "stdout",
     "output_type": "stream",
     "text": [
      "Il y a 60 échantillons dans cette catégorie\n"
     ]
    }
   ],
   "source": [
    "category_1 = ['Adenocarcinoma']\n",
    "\n",
    "print(\"Il y a {} échantillons dans cette catégorie\".format(category_repartition(category_1)))"
   ]
  },
  {
   "cell_type": "markdown",
   "metadata": {},
   "source": [
    "Other Carcinoma :"
   ]
  },
  {
   "cell_type": "code",
   "execution_count": 9,
   "metadata": {},
   "outputs": [
    {
     "name": "stdout",
     "output_type": "stream",
     "text": [
      "Il y a 55 échantillons dans cette catégorie\n"
     ]
    }
   ],
   "source": [
    "category_2 = [\n",
    "                'Carcinoma',\n",
    "                'Carcinosarcoma',\n",
    "                'Clear cell carcinoma',\n",
    "                'Cystoadenocarcinoma',\n",
    "                'Ductal carcinoma',\n",
    "                'Large cell carcinoma',\n",
    "                'Papillary infiltrating ductal carcinoma',\n",
    "                'Renal spindle cell carcinoma',\n",
    "                'Renal cell carcinoma',\n",
    "                'Small cell bronchioalveolar carcinoma',\n",
    "                'Squamous cell carcinoma',\n",
    "                'Hypernephroma',\n",
    "                'Infiltrating ductal carcinoma'\n",
    "            ]\n",
    "\n",
    "print(\"Il y a {} échantillons dans cette catégorie\".format(category_repartition(category_2)))"
   ]
  },
  {
   "cell_type": "markdown",
   "metadata": {},
   "source": [
    "Leucémie : "
   ]
  },
  {
   "cell_type": "code",
   "execution_count": 10,
   "metadata": {},
   "outputs": [
    {
     "name": "stdout",
     "output_type": "stream",
     "text": [
      "Il y a 18 échantillons dans cette catégorie\n"
     ]
    }
   ],
   "source": [
    "category_3 = [\n",
    "                'Acute lymphoblastic leukemia',\n",
    "                'Chronic myelogenous leukemia',\n",
    "                'Lymphoma',\n",
    "                'Myeloma',\n",
    "                'Pro myelocytic leukemia'\n",
    "            ]\n",
    "\n",
    "print(\"Il y a {} échantillons dans cette catégorie\".format(category_repartition(category_3)))"
   ]
  },
  {
   "cell_type": "markdown",
   "metadata": {},
   "source": [
    "Mélanome :"
   ]
  },
  {
   "cell_type": "code",
   "execution_count": 11,
   "metadata": {},
   "outputs": [
    {
     "name": "stdout",
     "output_type": "stream",
     "text": [
      "Il y a 23 échantillons dans cette catégorie\n"
     ]
    }
   ],
   "source": [
    "category_4 = [\n",
    "                'Malignant amelanotic melanoma',\n",
    "                'Malignant melanotic melanoma',\n",
    "                'Melanotic melanoma'\n",
    "            ]\n",
    "\n",
    "print(\"Il y a {} échantillons dans cette catégorie\".format(category_repartition(category_4)))"
   ]
  },
  {
   "cell_type": "markdown",
   "metadata": {},
   "source": [
    "Cerveau :"
   ]
  },
  {
   "cell_type": "code",
   "execution_count": 12,
   "metadata": {},
   "outputs": [
    {
     "name": "stdout",
     "output_type": "stream",
     "text": [
      "Il y a 18 échantillons dans cette catégorie\n"
     ]
    }
   ],
   "source": [
    "category_5 = [\n",
    "                'Astrocytoma',\n",
    "                'Glial cell neoplasm',\n",
    "                'Glioblastoma'\n",
    "            ]\n",
    "\n",
    "print(\"Il y a {} échantillons dans cette catégorie\".format(category_repartition(category_5)))"
   ]
  },
  {
   "cell_type": "markdown",
   "metadata": {},
   "source": [
    "**Vérifier les écarts-type (variabilité des données) des données des catégories pour confirmer le regroupement des différents type dans une catégorie**"
   ]
  },
  {
   "cell_type": "markdown",
   "metadata": {},
   "source": [
    "**Ajout de la catégorie**"
   ]
  },
  {
   "cell_type": "code",
   "execution_count": 13,
   "metadata": {},
   "outputs": [
    {
     "data": {
      "text/html": [
       "<div>\n",
       "<style scoped>\n",
       "    .dataframe tbody tr th:only-of-type {\n",
       "        vertical-align: middle;\n",
       "    }\n",
       "\n",
       "    .dataframe tbody tr th {\n",
       "        vertical-align: top;\n",
       "    }\n",
       "\n",
       "    .dataframe thead th {\n",
       "        text-align: right;\n",
       "    }\n",
       "</style>\n",
       "<table border=\"1\" class=\"dataframe\">\n",
       "  <thead>\n",
       "    <tr style=\"text-align: right;\">\n",
       "      <th></th>\n",
       "      <th>IDENTIFIER</th>\n",
       "      <th>GSM803615</th>\n",
       "      <th>GSM803674</th>\n",
       "      <th>GSM803733</th>\n",
       "      <th>GSM803616</th>\n",
       "      <th>GSM803675</th>\n",
       "      <th>GSM803734</th>\n",
       "      <th>GSM803617</th>\n",
       "      <th>GSM803676</th>\n",
       "      <th>GSM803735</th>\n",
       "      <th>...</th>\n",
       "      <th>GSM803785</th>\n",
       "      <th>GSM803671</th>\n",
       "      <th>GSM803729</th>\n",
       "      <th>GSM803786</th>\n",
       "      <th>GSM803672</th>\n",
       "      <th>GSM803730</th>\n",
       "      <th>GSM803787</th>\n",
       "      <th>GSM803673</th>\n",
       "      <th>GSM803731</th>\n",
       "      <th>GSM803788</th>\n",
       "    </tr>\n",
       "  </thead>\n",
       "  <tbody>\n",
       "    <tr>\n",
       "      <th>1007_s_at</th>\n",
       "      <td>DDR1</td>\n",
       "      <td>7.98588</td>\n",
       "      <td>6.60953</td>\n",
       "      <td>7.28692</td>\n",
       "      <td>6.81414</td>\n",
       "      <td>7.17116</td>\n",
       "      <td>7.22437</td>\n",
       "      <td>8.30001</td>\n",
       "      <td>7.97986</td>\n",
       "      <td>6.8234</td>\n",
       "      <td>...</td>\n",
       "      <td>8.76158</td>\n",
       "      <td>8.87174</td>\n",
       "      <td>9.05203</td>\n",
       "      <td>9.02302</td>\n",
       "      <td>7.90743</td>\n",
       "      <td>7.85594</td>\n",
       "      <td>6.90531</td>\n",
       "      <td>10.799</td>\n",
       "      <td>10.8054</td>\n",
       "      <td>10.9599</td>\n",
       "    </tr>\n",
       "    <tr>\n",
       "      <th>1053_at</th>\n",
       "      <td>RFC2</td>\n",
       "      <td>8.91259</td>\n",
       "      <td>8.95833</td>\n",
       "      <td>8.78347</td>\n",
       "      <td>8.68783</td>\n",
       "      <td>8.47835</td>\n",
       "      <td>8.87411</td>\n",
       "      <td>8.48144</td>\n",
       "      <td>8.44854</td>\n",
       "      <td>8.00108</td>\n",
       "      <td>...</td>\n",
       "      <td>9.01109</td>\n",
       "      <td>7.99229</td>\n",
       "      <td>7.89066</td>\n",
       "      <td>7.78652</td>\n",
       "      <td>7.38044</td>\n",
       "      <td>7.94416</td>\n",
       "      <td>8.20352</td>\n",
       "      <td>7.82165</td>\n",
       "      <td>7.71562</td>\n",
       "      <td>7.79544</td>\n",
       "    </tr>\n",
       "    <tr>\n",
       "      <th>117_at</th>\n",
       "      <td>HSPA6</td>\n",
       "      <td>5.95818</td>\n",
       "      <td>5.9552</td>\n",
       "      <td>4.75223</td>\n",
       "      <td>4.96283</td>\n",
       "      <td>5.01497</td>\n",
       "      <td>4.78948</td>\n",
       "      <td>4.66964</td>\n",
       "      <td>4.70403</td>\n",
       "      <td>4.69634</td>\n",
       "      <td>...</td>\n",
       "      <td>5.32821</td>\n",
       "      <td>5.22383</td>\n",
       "      <td>5.24615</td>\n",
       "      <td>4.89699</td>\n",
       "      <td>5.5685</td>\n",
       "      <td>4.93727</td>\n",
       "      <td>5.18978</td>\n",
       "      <td>5.01333</td>\n",
       "      <td>4.98273</td>\n",
       "      <td>4.97768</td>\n",
       "    </tr>\n",
       "    <tr>\n",
       "      <th>121_at</th>\n",
       "      <td>PAX8</td>\n",
       "      <td>7.25647</td>\n",
       "      <td>7.34984</td>\n",
       "      <td>7.03978</td>\n",
       "      <td>7.23067</td>\n",
       "      <td>7.63878</td>\n",
       "      <td>7.45663</td>\n",
       "      <td>7.60143</td>\n",
       "      <td>7.56602</td>\n",
       "      <td>7.27995</td>\n",
       "      <td>...</td>\n",
       "      <td>7.44675</td>\n",
       "      <td>7.36011</td>\n",
       "      <td>7.30075</td>\n",
       "      <td>7.23286</td>\n",
       "      <td>7.3711</td>\n",
       "      <td>7.40892</td>\n",
       "      <td>7.23629</td>\n",
       "      <td>7.2943</td>\n",
       "      <td>7.2762</td>\n",
       "      <td>7.45836</td>\n",
       "    </tr>\n",
       "    <tr>\n",
       "      <th>1255_g_at</th>\n",
       "      <td>GUCA1A</td>\n",
       "      <td>2.70294</td>\n",
       "      <td>2.72227</td>\n",
       "      <td>2.66169</td>\n",
       "      <td>2.79379</td>\n",
       "      <td>2.97056</td>\n",
       "      <td>2.62163</td>\n",
       "      <td>3.09889</td>\n",
       "      <td>2.87228</td>\n",
       "      <td>2.76879</td>\n",
       "      <td>...</td>\n",
       "      <td>2.91059</td>\n",
       "      <td>2.67582</td>\n",
       "      <td>2.74977</td>\n",
       "      <td>2.68969</td>\n",
       "      <td>2.85014</td>\n",
       "      <td>2.794</td>\n",
       "      <td>2.74596</td>\n",
       "      <td>2.74609</td>\n",
       "      <td>2.75365</td>\n",
       "      <td>2.57236</td>\n",
       "    </tr>\n",
       "  </tbody>\n",
       "</table>\n",
       "<p>5 rows × 175 columns</p>\n",
       "</div>"
      ],
      "text/plain": [
       "          IDENTIFIER GSM803615 GSM803674 GSM803733 GSM803616 GSM803675  \\\n",
       "1007_s_at       DDR1   7.98588   6.60953   7.28692   6.81414   7.17116   \n",
       "1053_at         RFC2   8.91259   8.95833   8.78347   8.68783   8.47835   \n",
       "117_at         HSPA6   5.95818    5.9552   4.75223   4.96283   5.01497   \n",
       "121_at          PAX8   7.25647   7.34984   7.03978   7.23067   7.63878   \n",
       "1255_g_at     GUCA1A   2.70294   2.72227   2.66169   2.79379   2.97056   \n",
       "\n",
       "          GSM803734 GSM803617 GSM803676 GSM803735  ... GSM803785 GSM803671  \\\n",
       "1007_s_at   7.22437   8.30001   7.97986    6.8234  ...   8.76158   8.87174   \n",
       "1053_at     8.87411   8.48144   8.44854   8.00108  ...   9.01109   7.99229   \n",
       "117_at      4.78948   4.66964   4.70403   4.69634  ...   5.32821   5.22383   \n",
       "121_at      7.45663   7.60143   7.56602   7.27995  ...   7.44675   7.36011   \n",
       "1255_g_at   2.62163   3.09889   2.87228   2.76879  ...   2.91059   2.67582   \n",
       "\n",
       "          GSM803729 GSM803786 GSM803672 GSM803730 GSM803787 GSM803673  \\\n",
       "1007_s_at   9.05203   9.02302   7.90743   7.85594   6.90531    10.799   \n",
       "1053_at     7.89066   7.78652   7.38044   7.94416   8.20352   7.82165   \n",
       "117_at      5.24615   4.89699    5.5685   4.93727   5.18978   5.01333   \n",
       "121_at      7.30075   7.23286    7.3711   7.40892   7.23629    7.2943   \n",
       "1255_g_at   2.74977   2.68969   2.85014     2.794   2.74596   2.74609   \n",
       "\n",
       "          GSM803731 GSM803788  \n",
       "1007_s_at   10.8054   10.9599  \n",
       "1053_at     7.71562   7.79544  \n",
       "117_at      4.98273   4.97768  \n",
       "121_at       7.2762   7.45836  \n",
       "1255_g_at   2.75365   2.57236  \n",
       "\n",
       "[5 rows x 175 columns]"
      ]
     },
     "execution_count": 13,
     "metadata": {},
     "output_type": "execute_result"
    }
   ],
   "source": [
    "dataDF_raw = pd.DataFrame(data=data[1:,1:], index=data[1:,0],columns=data[0,1:])\n",
    "dataDF_raw.head()"
   ]
  },
  {
   "cell_type": "code",
   "execution_count": 14,
   "metadata": {},
   "outputs": [],
   "source": [
    "# transposée pour avoir cellule avec les features de ML en lignes\n",
    "dataDF = pd.DataFrame(data=data[1:,1:], index=data[1:,0],columns=data[0,1:]).transpose() \n",
    "\n",
    "dataDF = dataDF.drop('IDENTIFIER') # IDENTIFIER pas utilisé\n",
    "dataDF = dataDF.iloc[:,:].astype('float64')\n",
    "dataDF.insert(0, \"category\", 1,allow_duplicates=True) # création d'une colonne pour les catégorie de regroupement"
   ]
  },
  {
   "cell_type": "code",
   "execution_count": 15,
   "metadata": {},
   "outputs": [
    {
     "data": {
      "text/html": [
       "<div>\n",
       "<style scoped>\n",
       "    .dataframe tbody tr th:only-of-type {\n",
       "        vertical-align: middle;\n",
       "    }\n",
       "\n",
       "    .dataframe tbody tr th {\n",
       "        vertical-align: top;\n",
       "    }\n",
       "\n",
       "    .dataframe thead th {\n",
       "        text-align: right;\n",
       "    }\n",
       "</style>\n",
       "<table border=\"1\" class=\"dataframe\">\n",
       "  <thead>\n",
       "    <tr style=\"text-align: right;\">\n",
       "      <th></th>\n",
       "      <th>category</th>\n",
       "      <th>1007_s_at</th>\n",
       "      <th>1053_at</th>\n",
       "      <th>117_at</th>\n",
       "      <th>121_at</th>\n",
       "      <th>1255_g_at</th>\n",
       "      <th>1294_at</th>\n",
       "      <th>1316_at</th>\n",
       "      <th>1320_at</th>\n",
       "      <th>1405_i_at</th>\n",
       "      <th>...</th>\n",
       "      <th>AFFX-r2-Ec-bioD-3_at</th>\n",
       "      <th>AFFX-r2-Ec-bioD-5_at</th>\n",
       "      <th>AFFX-r2-P1-cre-3_at</th>\n",
       "      <th>AFFX-r2-P1-cre-5_at</th>\n",
       "      <th>AFFX-ThrX-3_at</th>\n",
       "      <th>AFFX-ThrX-5_at</th>\n",
       "      <th>AFFX-ThrX-M_at</th>\n",
       "      <th>AFFX-TrpnX-3_at</th>\n",
       "      <th>AFFX-TrpnX-5_at</th>\n",
       "      <th>AFFX-TrpnX-M_at</th>\n",
       "    </tr>\n",
       "  </thead>\n",
       "  <tbody>\n",
       "    <tr>\n",
       "      <th>GSM803615</th>\n",
       "      <td>3</td>\n",
       "      <td>7.98588</td>\n",
       "      <td>8.91259</td>\n",
       "      <td>5.95818</td>\n",
       "      <td>7.25647</td>\n",
       "      <td>2.70294</td>\n",
       "      <td>7.31083</td>\n",
       "      <td>4.93041</td>\n",
       "      <td>4.50100</td>\n",
       "      <td>2.79874</td>\n",
       "      <td>...</td>\n",
       "      <td>2.45076</td>\n",
       "      <td>3.53323</td>\n",
       "      <td>2.74954</td>\n",
       "      <td>3.15915</td>\n",
       "      <td>3.62218</td>\n",
       "      <td>3.36355</td>\n",
       "      <td>2.67324</td>\n",
       "      <td>2.72860</td>\n",
       "      <td>3.29524</td>\n",
       "      <td>2.80815</td>\n",
       "    </tr>\n",
       "    <tr>\n",
       "      <th>GSM803674</th>\n",
       "      <td>3</td>\n",
       "      <td>6.60953</td>\n",
       "      <td>8.95833</td>\n",
       "      <td>5.95520</td>\n",
       "      <td>7.34984</td>\n",
       "      <td>2.72227</td>\n",
       "      <td>6.82958</td>\n",
       "      <td>5.11308</td>\n",
       "      <td>4.64615</td>\n",
       "      <td>2.72531</td>\n",
       "      <td>...</td>\n",
       "      <td>2.45229</td>\n",
       "      <td>3.55865</td>\n",
       "      <td>2.97269</td>\n",
       "      <td>2.99266</td>\n",
       "      <td>3.77177</td>\n",
       "      <td>3.38203</td>\n",
       "      <td>2.88409</td>\n",
       "      <td>2.70408</td>\n",
       "      <td>3.29139</td>\n",
       "      <td>3.09778</td>\n",
       "    </tr>\n",
       "    <tr>\n",
       "      <th>GSM803733</th>\n",
       "      <td>3</td>\n",
       "      <td>7.28692</td>\n",
       "      <td>8.78347</td>\n",
       "      <td>4.75223</td>\n",
       "      <td>7.03978</td>\n",
       "      <td>2.66169</td>\n",
       "      <td>6.80481</td>\n",
       "      <td>5.10009</td>\n",
       "      <td>4.29090</td>\n",
       "      <td>2.78749</td>\n",
       "      <td>...</td>\n",
       "      <td>2.58546</td>\n",
       "      <td>3.25001</td>\n",
       "      <td>2.71918</td>\n",
       "      <td>2.97779</td>\n",
       "      <td>3.76105</td>\n",
       "      <td>3.27553</td>\n",
       "      <td>2.64535</td>\n",
       "      <td>2.74768</td>\n",
       "      <td>3.21011</td>\n",
       "      <td>2.99015</td>\n",
       "    </tr>\n",
       "    <tr>\n",
       "      <th>GSM803616</th>\n",
       "      <td>3</td>\n",
       "      <td>6.81414</td>\n",
       "      <td>8.68783</td>\n",
       "      <td>4.96283</td>\n",
       "      <td>7.23067</td>\n",
       "      <td>2.79379</td>\n",
       "      <td>6.90361</td>\n",
       "      <td>4.89782</td>\n",
       "      <td>4.54651</td>\n",
       "      <td>7.99732</td>\n",
       "      <td>...</td>\n",
       "      <td>2.48428</td>\n",
       "      <td>3.59843</td>\n",
       "      <td>2.90260</td>\n",
       "      <td>3.13846</td>\n",
       "      <td>3.91334</td>\n",
       "      <td>3.14986</td>\n",
       "      <td>3.16415</td>\n",
       "      <td>2.78068</td>\n",
       "      <td>3.22221</td>\n",
       "      <td>2.99241</td>\n",
       "    </tr>\n",
       "    <tr>\n",
       "      <th>GSM803675</th>\n",
       "      <td>3</td>\n",
       "      <td>7.17116</td>\n",
       "      <td>8.47835</td>\n",
       "      <td>5.01497</td>\n",
       "      <td>7.63878</td>\n",
       "      <td>2.97056</td>\n",
       "      <td>6.70489</td>\n",
       "      <td>5.29439</td>\n",
       "      <td>4.84493</td>\n",
       "      <td>7.48446</td>\n",
       "      <td>...</td>\n",
       "      <td>2.90313</td>\n",
       "      <td>3.56928</td>\n",
       "      <td>3.01864</td>\n",
       "      <td>2.95408</td>\n",
       "      <td>3.67145</td>\n",
       "      <td>3.89064</td>\n",
       "      <td>3.00442</td>\n",
       "      <td>2.72479</td>\n",
       "      <td>3.40582</td>\n",
       "      <td>3.01408</td>\n",
       "    </tr>\n",
       "  </tbody>\n",
       "</table>\n",
       "<p>5 rows × 54676 columns</p>\n",
       "</div>"
      ],
      "text/plain": [
       "           category  1007_s_at  1053_at   117_at   121_at  1255_g_at  1294_at  \\\n",
       "GSM803615         3    7.98588  8.91259  5.95818  7.25647    2.70294  7.31083   \n",
       "GSM803674         3    6.60953  8.95833  5.95520  7.34984    2.72227  6.82958   \n",
       "GSM803733         3    7.28692  8.78347  4.75223  7.03978    2.66169  6.80481   \n",
       "GSM803616         3    6.81414  8.68783  4.96283  7.23067    2.79379  6.90361   \n",
       "GSM803675         3    7.17116  8.47835  5.01497  7.63878    2.97056  6.70489   \n",
       "\n",
       "           1316_at  1320_at  1405_i_at  ...  AFFX-r2-Ec-bioD-3_at  \\\n",
       "GSM803615  4.93041  4.50100    2.79874  ...               2.45076   \n",
       "GSM803674  5.11308  4.64615    2.72531  ...               2.45229   \n",
       "GSM803733  5.10009  4.29090    2.78749  ...               2.58546   \n",
       "GSM803616  4.89782  4.54651    7.99732  ...               2.48428   \n",
       "GSM803675  5.29439  4.84493    7.48446  ...               2.90313   \n",
       "\n",
       "           AFFX-r2-Ec-bioD-5_at  AFFX-r2-P1-cre-3_at  AFFX-r2-P1-cre-5_at  \\\n",
       "GSM803615               3.53323              2.74954              3.15915   \n",
       "GSM803674               3.55865              2.97269              2.99266   \n",
       "GSM803733               3.25001              2.71918              2.97779   \n",
       "GSM803616               3.59843              2.90260              3.13846   \n",
       "GSM803675               3.56928              3.01864              2.95408   \n",
       "\n",
       "           AFFX-ThrX-3_at  AFFX-ThrX-5_at  AFFX-ThrX-M_at  AFFX-TrpnX-3_at  \\\n",
       "GSM803615         3.62218         3.36355         2.67324          2.72860   \n",
       "GSM803674         3.77177         3.38203         2.88409          2.70408   \n",
       "GSM803733         3.76105         3.27553         2.64535          2.74768   \n",
       "GSM803616         3.91334         3.14986         3.16415          2.78068   \n",
       "GSM803675         3.67145         3.89064         3.00442          2.72479   \n",
       "\n",
       "           AFFX-TrpnX-5_at  AFFX-TrpnX-M_at  \n",
       "GSM803615          3.29524          2.80815  \n",
       "GSM803674          3.29139          3.09778  \n",
       "GSM803733          3.21011          2.99015  \n",
       "GSM803616          3.22221          2.99241  \n",
       "GSM803675          3.40582          3.01408  \n",
       "\n",
       "[5 rows x 54676 columns]"
      ]
     },
     "execution_count": 15,
     "metadata": {},
     "output_type": "execute_result"
    }
   ],
   "source": [
    "# set the rigth category for each cell\n",
    "all_categories = [category_1, category_2, category_3, category_4, category_5] # liste de listes\n",
    "category_column = []\n",
    "\n",
    "for index, row in dataDF.iterrows():\n",
    "    for cat_index in range(len(all_categories)):\n",
    "        if id_cond[index] in all_categories[cat_index]:\n",
    "            category_column.append(cat_index + 1) # indices 1-5\n",
    "            break      \n",
    "\n",
    "dataDF['category'] = category_column\n",
    "dataDF.head()"
   ]
  },
  {
   "cell_type": "markdown",
   "metadata": {},
   "source": [
    "**Vérification**"
   ]
  },
  {
   "cell_type": "code",
   "execution_count": 16,
   "metadata": {},
   "outputs": [],
   "source": [
    "# séparation des cellules par catégories\n",
    "cat1_df = dataDF[dataDF['category'] == 1]\n",
    "cat2_df = dataDF[dataDF['category'] == 2]\n",
    "cat3_df = dataDF[dataDF['category'] == 3] \n",
    "cat4_df = dataDF[dataDF['category'] == 4] \n",
    "cat5_df = dataDF[dataDF['category'] == 5]"
   ]
  },
  {
   "cell_type": "code",
   "execution_count": 17,
   "metadata": {},
   "outputs": [
    {
     "name": "stdout",
     "output_type": "stream",
     "text": [
      "Nombre d'échantillons par catégorie\n",
      "1 : 60 \n",
      "2 : 55 \n",
      "3 : 18 \n",
      "4 : 23 \n",
      "5 : 18 \n",
      "\n",
      "\n"
     ]
    }
   ],
   "source": [
    "print(\"Nombre d'échantillons par catégorie\")\n",
    "print('1 :',len(cat1_df), '\\n2 :',len(cat2_df), '\\n3 :',len(cat3_df), '\\n4 :',len(cat4_df), '\\n5 :',len(cat5_df), '\\n\\n')    "
   ]
  },
  {
   "cell_type": "markdown",
   "metadata": {},
   "source": [
    "**Recherche d'un indicateur de haute variabilité d'un échantillon**"
   ]
  },
  {
   "cell_type": "code",
   "execution_count": 18,
   "metadata": {},
   "outputs": [
    {
     "data": {
      "text/plain": [
       "count    174.000000\n",
       "mean       9.198371\n",
       "std        1.013861\n",
       "min        6.598980\n",
       "25%        8.653343\n",
       "50%        9.248630\n",
       "75%        9.887240\n",
       "max       11.703400\n",
       "Name: 1007_s_at, dtype: float64"
      ]
     },
     "execution_count": 18,
     "metadata": {},
     "output_type": "execute_result"
    }
   ],
   "source": [
    "dataDF['1007_s_at'].describe()"
   ]
  },
  {
   "cell_type": "code",
   "execution_count": 19,
   "metadata": {},
   "outputs": [
    {
     "name": "stdout",
     "output_type": "stream",
     "text": [
      "count    60.000000\n",
      "mean      9.559456\n",
      "std       0.831504\n",
      "min       7.932840\n",
      "25%       9.090573\n",
      "50%       9.479150\n",
      "75%      10.008900\n",
      "max      11.703400\n",
      "Name: 1007_s_at, dtype: float64 \n",
      "\n",
      "count    55.000000\n",
      "mean      9.467771\n",
      "std       0.812607\n",
      "min       7.781830\n",
      "25%       8.941880\n",
      "50%       9.281200\n",
      "75%      10.037135\n",
      "max      11.023900\n",
      "Name: 1007_s_at, dtype: float64 \n",
      "\n",
      "count    18.000000\n",
      "mean      7.544478\n",
      "std       0.722828\n",
      "min       6.598980\n",
      "25%       7.038580\n",
      "50%       7.262890\n",
      "75%       7.984375\n",
      "max       8.830640\n",
      "Name: 1007_s_at, dtype: float64 \n",
      "\n",
      "count    23.000000\n",
      "mean      8.674449\n",
      "std       0.789495\n",
      "min       6.905310\n",
      "25%       8.374185\n",
      "50%       8.871740\n",
      "75%       9.001225\n",
      "max       9.947220\n",
      "Name: 1007_s_at, dtype: float64 \n",
      "\n",
      "count    18.000000\n",
      "mean      9.494939\n",
      "std       0.760661\n",
      "min       8.163850\n",
      "25%       8.911333\n",
      "50%       9.616660\n",
      "75%       9.963250\n",
      "max      10.565100\n",
      "Name: 1007_s_at, dtype: float64 \n",
      "\n"
     ]
    }
   ],
   "source": [
    "print(cat1_df['1007_s_at'].describe(),'\\n')\n",
    "print(cat2_df['1007_s_at'].describe(),'\\n')\n",
    "print(cat3_df['1007_s_at'].describe(),'\\n')\n",
    "print(cat4_df['1007_s_at'].describe(),'\\n')\n",
    "print(cat5_df['1007_s_at'].describe(),'\\n')"
   ]
  },
  {
   "cell_type": "markdown",
   "metadata": {},
   "source": [
    "Nous cherchons des échantillons qui seraient mal catégorisés, c'est-à-dire dont les valeurs seraient trop différentes des autres valeurs dans la catégorie.\n",
    "Si l'écart-type donne une idée de la variabilité des données d'une catégorie, on ne peut pas ressortir directement les échantillons \"trop loin de la moyenne\".\n",
    "Dans ce but, nous allons utiliser les quantiles pour chaque valeur de gène : si l'échantillon se trouve dans le premier quartile (25 premiers %) ou le dernier (25 derniers %), l'échantillion sera dit trop différents des autres.\n",
    "\n",
    "Cette méthode est bien sûr discutable puisqu'il y aura forcément des valeurs dans ces quartiles, même pour des valeurs ayant un écart-type extrêmement faible. On gardera donc une trace chaque fois que l'échantillon fait partie des quantiles décrit précédemment et ainsi on examinera uniquement les échantillons qui ont été significativement plus de fois des \"outlayers\"."
   ]
  },
  {
   "cell_type": "code",
   "execution_count": 20,
   "metadata": {},
   "outputs": [],
   "source": [
    "def count_outlayers(category):\n",
    "    outlayer_count = [0] * len(category)\n",
    "    for col in category.iloc[:,1:]: # pour tous les gènes\n",
    "        threshold_low = category[col].quantile(0.25)\n",
    "        threshold_high = category[col].quantile(0.75)\n",
    "        \n",
    "        for val_index in range(len(category[col])):\n",
    "            val = category[col][val_index]\n",
    "            if val < threshold_low or val > threshold_high: # dans le premier ou dernier quartile\n",
    "                outlayer_count[val_index] +=1\n",
    "    return outlayer_count"
   ]
  },
  {
   "cell_type": "code",
   "execution_count": 21,
   "metadata": {},
   "outputs": [],
   "source": [
    "# ajout de la colonne de count\n",
    "cat1_df.insert(1, \"outlayer count\", count_outlayers(cat1_df),allow_duplicates=False)\n",
    "cat2_df.insert(1, \"outlayer count\", count_outlayers(cat2_df),allow_duplicates=False)\n",
    "cat3_df.insert(1, \"outlayer count\", count_outlayers(cat3_df),allow_duplicates=False)\n",
    "cat4_df.insert(1, \"outlayer count\", count_outlayers(cat4_df),allow_duplicates=False)\n",
    "cat5_df.insert(1, \"outlayer count\", count_outlayers(cat5_df),allow_duplicates=False)"
   ]
  },
  {
   "cell_type": "code",
   "execution_count": 22,
   "metadata": {},
   "outputs": [
    {
     "name": "stdout",
     "output_type": "stream",
     "text": [
      "categorie 1\n",
      " GSM803758    31562\n",
      "GSM803732    31524\n",
      "GSM803641    31504\n",
      "GSM803769    30881\n",
      "GSM803624    30666\n",
      "GSM803741    30410\n",
      "GSM803766    29720\n",
      "GSM803700    29505\n",
      "GSM803767    29327\n",
      "GSM803623    29262\n",
      "GSM803751    29209\n",
      "GSM803772    29201\n",
      "GSM803759    29153\n",
      "GSM803780    28876\n",
      "GSM803682    28666\n",
      "GSM803656    28593\n",
      "GSM803755    28577\n",
      "GSM803715    28427\n",
      "GSM803756    28346\n",
      "GSM803742    28284\n",
      "GSM803633    28207\n",
      "GSM803743    28133\n",
      "GSM803754    27926\n",
      "GSM803717    27757\n",
      "GSM803779    27678\n",
      "GSM803664    27660\n",
      "GSM803638    27660\n",
      "GSM803774    27556\n",
      "GSM803662    27431\n",
      "GSM803637    27256\n",
      "GSM803708    27207\n",
      "GSM803718    27181\n",
      "GSM803649    27166\n",
      "GSM803663    27155\n",
      "GSM803719    27089\n",
      "GSM803775    26979\n",
      "GSM803709    26623\n",
      "GSM803659    26446\n",
      "GSM803721    26442\n",
      "GSM803722    26335\n",
      "GSM803712    26217\n",
      "GSM803692    26197\n",
      "GSM803696    26154\n",
      "GSM803697    26139\n",
      "GSM803640    26133\n",
      "GSM803776    26124\n",
      "GSM803653    25999\n",
      "GSM803658    25874\n",
      "GSM803765    25781\n",
      "GSM803778    25582\n",
      "GSM803683    25225\n",
      "GSM803648    25158\n",
      "GSM803699    24949\n",
      "GSM803650    24851\n",
      "GSM803636    23990\n",
      "GSM803707    23984\n",
      "GSM803695    23936\n",
      "GSM803625    23815\n",
      "GSM803684    23386\n",
      "GSM803660    22988\n",
      "Name: outlayer count, dtype: int64 \n",
      "\n",
      "\n",
      "categorie 2\n",
      " GSM803642    32701\n",
      "GSM803731    31014\n",
      "GSM803703    30875\n",
      "GSM803788    30812\n",
      "GSM803757    30642\n",
      "GSM803770    30055\n",
      "GSM803744    30036\n",
      "GSM803760    29989\n",
      "GSM803634    29914\n",
      "GSM803740    29850\n",
      "GSM803673    29783\n",
      "GSM803701    29420\n",
      "GSM803777    29383\n",
      "GSM803713    29319\n",
      "GSM803764    29315\n",
      "GSM803720    29159\n",
      "GSM803739    28886\n",
      "GSM803643    28772\n",
      "GSM803771    28606\n",
      "GSM803654    28530\n",
      "GSM803652    28355\n",
      "GSM803773    28194\n",
      "GSM803752    28063\n",
      "GSM803753    28056\n",
      "GSM803626    28045\n",
      "GSM803698    27956\n",
      "GSM803657    27901\n",
      "GSM803761    27831\n",
      "GSM803763    27717\n",
      "GSM803655    27685\n",
      "GSM803716    27447\n",
      "GSM803639    27326\n",
      "GSM803622    27149\n",
      "GSM803647    27129\n",
      "GSM803681    27111\n",
      "GSM803762    27049\n",
      "GSM803644    27027\n",
      "GSM803680    26780\n",
      "GSM803645    26704\n",
      "GSM803621    26692\n",
      "GSM803711    26637\n",
      "GSM803768    26567\n",
      "GSM803693    26200\n",
      "GSM803635    26188\n",
      "GSM803694    26096\n",
      "GSM803651    25938\n",
      "GSM803714    25887\n",
      "GSM803702    25754\n",
      "GSM803685    25601\n",
      "GSM803661    25273\n",
      "GSM803710    25061\n",
      "GSM803704    24902\n",
      "GSM803646    24564\n",
      "GSM803706    24444\n",
      "GSM803705    24347\n",
      "Name: outlayer count, dtype: int64 \n",
      "\n",
      "\n",
      "categorie 3\n",
      " GSM803733    33366\n",
      "GSM803735    33220\n",
      "GSM803737    32625\n",
      "GSM803736    32582\n",
      "GSM803677    31432\n",
      "GSM803738    31353\n",
      "GSM803618    30952\n",
      "GSM803678    30694\n",
      "GSM803619    30650\n",
      "GSM803615    30139\n",
      "GSM803676    29989\n",
      "GSM803617    29338\n",
      "GSM803620    29254\n",
      "GSM803679    28957\n",
      "GSM803734    28498\n",
      "GSM803675    28386\n",
      "GSM803674    27866\n",
      "GSM803616    27381\n",
      "Name: outlayer count, dtype: int64 \n",
      "\n",
      "\n",
      "categorie 4\n",
      " GSM803665    32629\n",
      "GSM803668    32379\n",
      "GSM803723    31639\n",
      "GSM803781    31492\n",
      "GSM803784    30540\n",
      "GSM803783    30419\n",
      "GSM803785    29711\n",
      "GSM803786    29515\n",
      "GSM803787    29509\n",
      "GSM803726    29108\n",
      "GSM803667    28893\n",
      "GSM803725    27832\n",
      "GSM803672    27827\n",
      "GSM803782    27600\n",
      "GSM803728    27577\n",
      "GSM803724    27571\n",
      "GSM803670    27334\n",
      "GSM803669    26527\n",
      "GSM803729    26244\n",
      "GSM803730    26207\n",
      "GSM803727    25840\n",
      "GSM803666    25278\n",
      "GSM803671    24350\n",
      "Name: outlayer count, dtype: int64 \n",
      "\n",
      "\n",
      "categorie 5\n",
      " GSM803747    35817\n",
      "GSM803745    32585\n",
      "GSM803748    32225\n",
      "GSM803628    32126\n",
      "GSM803746    30817\n",
      "GSM803687    30739\n",
      "GSM803749    30651\n",
      "GSM803686    30581\n",
      "GSM803691    30543\n",
      "GSM803750    30501\n",
      "GSM803627    30349\n",
      "GSM803632    29732\n",
      "GSM803688    29591\n",
      "GSM803631    29143\n",
      "GSM803629    29086\n",
      "GSM803630    27864\n",
      "GSM803690    27516\n",
      "GSM803689    26802\n",
      "Name: outlayer count, dtype: int64 \n",
      "\n",
      "\n"
     ]
    }
   ],
   "source": [
    "# tri par nombre max d'outlayers\n",
    "outlayers_1 = cat1_df.sort_values(\"outlayer count\", ascending=False)\n",
    "outlayers_2 = cat2_df.sort_values(\"outlayer count\", ascending=False)\n",
    "outlayers_3 = cat3_df.sort_values(\"outlayer count\", ascending=False)\n",
    "outlayers_4 = cat4_df.sort_values(\"outlayer count\", ascending=False)\n",
    "outlayers_5 = cat5_df.sort_values(\"outlayer count\", ascending=False)\n",
    "\n",
    "\n",
    "print('categorie 1\\n', outlayers_1['outlayer count'].head(60), '\\n\\n')\n",
    "print('categorie 2\\n', outlayers_2['outlayer count'].head(60), '\\n\\n')\n",
    "print('categorie 3\\n', outlayers_3['outlayer count'].head(60), '\\n\\n')\n",
    "print('categorie 4\\n', outlayers_4['outlayer count'].head(60), '\\n\\n')\n",
    "print('categorie 5\\n', outlayers_5['outlayer count'].head(60), '\\n\\n')"
   ]
  },
  {
   "cell_type": "markdown",
   "metadata": {},
   "source": [
    "**Résultats**"
   ]
  },
  {
   "cell_type": "markdown",
   "metadata": {},
   "source": [
    "On ne semble pas détecter de réelle anomalie, les valeurs sont proches. Seul l'échantillon GSM803747 de la catégorie 5 semble être un peu à part, il s'agit d'une cellule \"Glial cell neoplasm\".\n",
    "\n",
    "Les deux autres échantillon de ce tissu sont : GSM803629 (4ème meilleur) et GSM803688 (6ème meilleur).\n",
    "Pour cette raison, on maintiendra cette catégorie en l'état. Une solution pourrait être de supprimer simplement cette entrée, mais sur une catégorie de 18 échantillons, il semble important de la garder."
   ]
  },
  {
   "cell_type": "markdown",
   "metadata": {},
   "source": [
    "**Machine Learning**"
   ]
  },
  {
   "cell_type": "markdown",
   "metadata": {},
   "source": [
    "Ensuite, il faut séparer les données de test et d'entraînement :\n",
    "\n",
    "![coucou](./images/test_train_diagram.png)\n"
   ]
  },
  {
   "cell_type": "code",
   "execution_count": 23,
   "metadata": {},
   "outputs": [],
   "source": [
    "class_names = np.array(['1', '2', '3', '4', '5'])"
   ]
  },
  {
   "cell_type": "markdown",
   "metadata": {},
   "source": [
    "**On prépare les données**"
   ]
  },
  {
   "cell_type": "code",
   "execution_count": 62,
   "metadata": {},
   "outputs": [],
   "source": [
    "X = dataDF.drop('category', axis=1) # ensemble des caractéristiques"
   ]
  },
  {
   "cell_type": "code",
   "execution_count": 63,
   "metadata": {},
   "outputs": [],
   "source": [
    "y = dataDF['category'] # classification"
   ]
  },
  {
   "cell_type": "code",
   "execution_count": 64,
   "metadata": {},
   "outputs": [
    {
     "data": {
      "text/plain": [
       "(174, 54676)"
      ]
     },
     "execution_count": 64,
     "metadata": {},
     "output_type": "execute_result"
    }
   ],
   "source": [
    "np.shape(dataDF)"
   ]
  },
  {
   "cell_type": "code",
   "execution_count": 65,
   "metadata": {},
   "outputs": [],
   "source": [
    "def unvariant_selection(X, y, threshold):\n",
    "\n",
    "    bestfeatures = SelectKBest(score_func=f_regression, k=threshold)\n",
    "    \n",
    "    bestfeatures.fit_transform(X,y)\n",
    "    result_rigid = X[X.columns[bestfeatures.get_support(indices=True)]]\n",
    "\n",
    "    result_rigid = set(result_rigid.columns.values)\n",
    "    \n",
    "    return result_rigid"
   ]
  },
  {
   "cell_type": "code",
   "execution_count": 66,
   "metadata": {},
   "outputs": [],
   "source": [
    "def variance_threshold(X, y, threshold):\n",
    "\n",
    "    threshold = (threshold * (1 - threshold))\n",
    "    sel = VarianceThreshold(threshold=threshold)\n",
    "    sel.fit_transform(X,y) \n",
    "    result_rigid = X[X.columns[sel.get_support(indices=True)]]\n",
    "\n",
    "\n",
    "    result_rigid = set(result_rigid.columns.values)\n",
    "\n",
    "    return result_rigid"
   ]
  },
  {
   "cell_type": "code",
   "execution_count": 67,
   "metadata": {},
   "outputs": [],
   "source": [
    "def rigide_linear_regression(X, y, treshold):\n",
    "    # we use a rigide_regression_model, this is a linear regression model\n",
    "    # that addes a malus to data with a small coefficient\n",
    "\n",
    "    rigid_estimator = linear_model.Ridge(alpha=.5)\n",
    "\n",
    "    # We initialize the RFE model with the estimator\n",
    "    rfe_rigid = RFE(rigid_estimator, treshold, 0.01)\n",
    "\n",
    "    rfe_rigid.fit_transform(X,y) \n",
    "    result_rigid = X[X.columns[rfe_rigid.get_support(indices=True)]]\n",
    "\n",
    "\n",
    "    result_rigid = set(result_rigid.columns.values)\n",
    "\n",
    "    return result_rigid\n"
   ]
  },
  {
   "cell_type": "code",
   "execution_count": 68,
   "metadata": {},
   "outputs": [],
   "source": [
    "def linear_regression_malus(X, y, treshold):\n",
    "    SVR_estimator = SVR(kernel='linear')\n",
    "\n",
    "#     We initialize the RFE model with the estimator\n",
    "    rfe_SVR = RFE(SVR_estimator, treshold, 0.01)\n",
    "\n",
    "#     We use a mask to filter the results that fit our model for both years\n",
    "    rfe_SVR.fit_transform(X,y) \n",
    "    result_SVR = X[X.columns[rfe_SVR.get_support(indices=True)]]\n",
    "\n",
    "    SVR_gene = set(result_SVR.columns.values)\n",
    "    \n",
    "    return SVR_gene"
   ]
  },
  {
   "cell_type": "code",
   "execution_count": 69,
   "metadata": {},
   "outputs": [],
   "source": [
    "def filtered(X, sample):\n",
    "\n",
    "    return X.loc[:,X.columns.str.contains('|'.join(sample))]"
   ]
  },
  {
   "cell_type": "code",
   "execution_count": 70,
   "metadata": {},
   "outputs": [],
   "source": [
    "threshold = 1000"
   ]
  },
  {
   "cell_type": "code",
   "execution_count": 71,
   "metadata": {},
   "outputs": [],
   "source": [
    "sample = variance_threshold(X, y, threshold)"
   ]
  },
  {
   "cell_type": "code",
   "execution_count": 72,
   "metadata": {},
   "outputs": [
    {
     "data": {
      "text/plain": [
       "54675"
      ]
     },
     "execution_count": 72,
     "metadata": {},
     "output_type": "execute_result"
    }
   ],
   "source": [
    "len(sample)"
   ]
  },
  {
   "cell_type": "code",
   "execution_count": 73,
   "metadata": {},
   "outputs": [
    {
     "name": "stdout",
     "output_type": "stream",
     "text": [
      "La sélection a duré 12.896 secondes\n"
     ]
    }
   ],
   "source": [
    "start = time.time()\n",
    "\n",
    "sample_1 = rigide_linear_regression(X, y, int(threshold))\n",
    "\n",
    "end = time.time()\n",
    "\n",
    "print(\"La sélection a duré {:.3f} secondes\".format(end - start))"
   ]
  },
  {
   "cell_type": "code",
   "execution_count": 74,
   "metadata": {},
   "outputs": [
    {
     "name": "stdout",
     "output_type": "stream",
     "text": [
      "La sélection a duré 71.160 secondes\n"
     ]
    }
   ],
   "source": [
    "start = time.time()\n",
    "\n",
    "sample_2 = linear_regression_malus(X, y, int(threshold))\n",
    "\n",
    "end = time.time()\n",
    "\n",
    "print(\"La sélection a duré {:.3f} secondes\".format(end - start))"
   ]
  },
  {
   "cell_type": "code",
   "execution_count": 75,
   "metadata": {},
   "outputs": [
    {
     "data": {
      "text/plain": [
       "766"
      ]
     },
     "execution_count": 75,
     "metadata": {},
     "output_type": "execute_result"
    }
   ],
   "source": [
    "len(sample_1 & sample_2)"
   ]
  },
  {
   "cell_type": "code",
   "execution_count": 76,
   "metadata": {},
   "outputs": [],
   "source": [
    "# len(sample)"
   ]
  },
  {
   "cell_type": "code",
   "execution_count": 87,
   "metadata": {},
   "outputs": [],
   "source": [
    "X_filtered = filtered(X, sample_1 & sample_2 )"
   ]
  },
  {
   "cell_type": "code",
   "execution_count": 88,
   "metadata": {},
   "outputs": [],
   "source": [
    "def split(X, y):\n",
    "    \"\"\"X_train, X_test, y_train, y_test\"\"\"\n",
    "    return train_test_split(\n",
    "    np.array(X),\n",
    "    np.array(y),\n",
    "    test_size=0.3\n",
    ")"
   ]
  },
  {
   "cell_type": "code",
   "execution_count": null,
   "metadata": {},
   "outputs": [],
   "source": []
  },
  {
   "cell_type": "code",
   "execution_count": 89,
   "metadata": {},
   "outputs": [],
   "source": [
    "iteration_n = 20"
   ]
  },
  {
   "cell_type": "markdown",
   "metadata": {},
   "source": [
    "### Decision tree classifier"
   ]
  },
  {
   "cell_type": "code",
   "execution_count": 90,
   "metadata": {},
   "outputs": [
    {
     "data": {
      "text/plain": [
       "0.9433962264150944"
      ]
     },
     "execution_count": 90,
     "metadata": {},
     "output_type": "execute_result"
    }
   ],
   "source": [
    "best_score = 0\n",
    "best_predict = None\n",
    "best_test = []\n",
    "\n",
    "scores_dtc = []\n",
    "\n",
    "for i in range(iteration_n):\n",
    "    \n",
    "    X_train, X_test, y_train, y_test = split(X_filtered, y)\n",
    "\n",
    "    clf = tree.DecisionTreeClassifier()\n",
    "\n",
    "    clf.fit(X=X_train, y=y_train)\n",
    "    y_predict = clf.predict(X_test)\n",
    "    current_score = accuracy_score(y_test, y_predict)\n",
    "    \n",
    "    scores_dtc.append(current_score)\n",
    "    \n",
    "    if(current_score > best_score):\n",
    "        best_score = current_score\n",
    "        best_predict = y_predict\n",
    "        best_test = y_test\n",
    "\n",
    "best_score"
   ]
  },
  {
   "cell_type": "code",
   "execution_count": 91,
   "metadata": {},
   "outputs": [
    {
     "data": {
      "text/plain": [
       "<matplotlib.axes._subplots.AxesSubplot at 0x1f6c4bdc710>"
      ]
     },
     "execution_count": 91,
     "metadata": {},
     "output_type": "execute_result"
    },
    {
     "data": {
      "image/png": "[encoded data removed]",
      "text/plain": [
       "<Figure size 432x288 with 2 Axes>"
      ]
     },
     "metadata": {
      "needs_background": "light"
     },
     "output_type": "display_data"
    }
   ],
   "source": [
    "plot_confusion_matrix(best_test, best_predict, class_names)"
   ]
  },
  {
   "cell_type": "markdown",
   "metadata": {},
   "source": [
    "### Support vector machine classifier"
   ]
  },
  {
   "cell_type": "code",
   "execution_count": 92,
   "metadata": {},
   "outputs": [
    {
     "data": {
      "text/plain": [
       "1.0"
      ]
     },
     "execution_count": 92,
     "metadata": {},
     "output_type": "execute_result"
    }
   ],
   "source": [
    "best_score = 0\n",
    "best_predict = None\n",
    "best_test = []\n",
    "\n",
    "scores_svc = []\n",
    "\n",
    "for i in range(iteration_n):\n",
    "    \n",
    "    X_train, X_test, y_train, y_test = split(X_filtered, y)\n",
    "\n",
    "    clf = svm.SVC(gamma='scale')\n",
    "\n",
    "    clf.fit(X=X_train, y=y_train)\n",
    "    y_predict = clf.predict(X_test)\n",
    "    current_score = accuracy_score(y_test, y_predict)\n",
    "    \n",
    "    scores_svc.append(current_score)\n",
    "    \n",
    "    if(current_score > best_score):\n",
    "        best_score = current_score\n",
    "        best_predict = y_predict\n",
    "        best_test = y_test\n",
    "\n",
    "best_score"
   ]
  },
  {
   "cell_type": "code",
   "execution_count": 93,
   "metadata": {},
   "outputs": [
    {
     "data": {
      "text/plain": [
       "<matplotlib.axes._subplots.AxesSubplot at 0x1f6c4bcd390>"
      ]
     },
     "execution_count": 93,
     "metadata": {},
     "output_type": "execute_result"
    },
    {
     "data": {
      "image/png": "[encoded data removed]",
      "text/plain": [
       "<Figure size 432x288 with 2 Axes>"
      ]
     },
     "metadata": {
      "needs_background": "light"
     },
     "output_type": "display_data"
    }
   ],
   "source": [
    "plot_confusion_matrix(best_test, best_predict, class_names)"
   ]
  },
  {
   "cell_type": "markdown",
   "metadata": {},
   "source": [
    "### k-nearest neighbours classifier"
   ]
  },
  {
   "cell_type": "code",
   "execution_count": 94,
   "metadata": {},
   "outputs": [
    {
     "data": {
      "text/plain": [
       "0.9245283018867925"
      ]
     },
     "execution_count": 94,
     "metadata": {},
     "output_type": "execute_result"
    }
   ],
   "source": [
    "best_score = 0\n",
    "best_predict = None\n",
    "best_test = []\n",
    "\n",
    "scores_knn = []\n",
    "\n",
    "for i in range(iteration_n):\n",
    "    \n",
    "    X_train, X_test, y_train, y_test = split(X_filtered, y)\n",
    "\n",
    "    clf = KNeighborsClassifier(n_neighbors=3)\n",
    "\n",
    "    clf.fit(X=X_train, y=y_train)\n",
    "    y_predict = clf.predict(X_test)\n",
    "    current_score = accuracy_score(y_test, y_predict)\n",
    "    \n",
    "    scores_knn.append(current_score)\n",
    "    \n",
    "    if(current_score > best_score):\n",
    "        best_score = current_score\n",
    "        best_predict = y_predict\n",
    "        best_test = y_test\n",
    "\n",
    "best_score"
   ]
  },
  {
   "cell_type": "code",
   "execution_count": 95,
   "metadata": {},
   "outputs": [
    {
     "data": {
      "text/plain": [
       "<matplotlib.axes._subplots.AxesSubplot at 0x1f6c080f710>"
      ]
     },
     "execution_count": 95,
     "metadata": {},
     "output_type": "execute_result"
    },
    {
     "data": {
      "image/png": "[encoded data removed]",
      "text/plain": [
       "<Figure size 432x288 with 2 Axes>"
      ]
     },
     "metadata": {
      "needs_background": "light"
     },
     "output_type": "display_data"
    }
   ],
   "source": [
    "plot_confusion_matrix(best_test, best_predict, class_names)"
   ]
  },
  {
   "cell_type": "code",
   "execution_count": 96,
   "metadata": {},
   "outputs": [
    {
     "name": "stdout",
     "output_type": "stream",
     "text": [
      "La moyenne de tout les scores :\n",
      "+ Decision tree classifier : 0.857\n",
      "+ Support vector machine classifier : 0.942\n",
      "+ k-nearest neighbours classifier : 0.836\n"
     ]
    }
   ],
   "source": [
    "print(\"La moyenne de tout les scores :\")\n",
    "print(\"+ Decision tree classifier : {:.3f}\".format(np.mean(scores_dtc)))\n",
    "print(\"+ Support vector machine classifier : {:.3f}\".format(np.mean(scores_svc)))\n",
    "print(\"+ k-nearest neighbours classifier : {:.3f}\".format(np.mean(scores_knn)))"
   ]
  },
  {
   "cell_type": "markdown",
   "metadata": {},
   "source": [
    "**Sans rien**\n",
    "\n",
    "La moyenne de tout les scores :\n",
    "+ Decision tree classifier : 0.764\n",
    "+ Support vector machine classifier : 0.604\n",
    "+ k-nearest neighbours classifier : 0.717"
   ]
  },
  {
   "cell_type": "markdown",
   "metadata": {},
   "source": [
    "**Variance threshold (0.497)**\n",
    "\n",
    "La moyenne de tout les scores :\n",
    "+ Decision tree classifier : 0.790\n",
    "+ Support vector machine classifier : 0.849\n",
    "+ k-nearest neighbours classifier : 0.717"
   ]
  },
  {
   "cell_type": "markdown",
   "metadata": {},
   "source": [
    "**Recursive features elimination (500)**\n",
    "\n",
    "La moyenne de tout les scores :\n",
    "+ Decision tree classifier : 0.892\n",
    "+ Support vector machine classifier : 0.981\n",
    "+ k-nearest neighbours classifier : 0.849"
   ]
  },
  {
   "cell_type": "markdown",
   "metadata": {},
   "source": [
    "**Recursive features elimination (750)**\n",
    "\n",
    "La moyenne de tout les scores :\n",
    "+ Decision tree classifier : 0.884\n",
    "+ Support vector machine classifier : 0.943\n",
    "+ k-nearest neighbours classifier : 0.849"
   ]
  },
  {
   "cell_type": "markdown",
   "metadata": {},
   "source": [
    "**Recursive features elimination (1000)**\n",
    "\n",
    "La moyenne de tout les scores :\n",
    "+ Decision tree classifier : 0.882\n",
    "+ Support vector machine classifier : 0.981\n",
    "+ k-nearest neighbours classifier : 0.849"
   ]
  },
  {
   "cell_type": "markdown",
   "metadata": {},
   "source": [
    "**Recursive features elimination (2000)**\n",
    "\n",
    "La moyenne de tout les scores :\n",
    "+ Decision tree classifier : 0.858\n",
    "+ Support vector machine classifier : 0.962\n",
    "+ k-nearest neighbours classifier : 0.849"
   ]
  },
  {
   "cell_type": "markdown",
   "metadata": {},
   "source": [
    "**Unvariant Selection (500)**\n",
    "\n",
    "La moyenne de tout les scores :\n",
    "+ Decision tree classifier : 0.793\n",
    "+ Support vector machine classifier : 0.811\n",
    "+ k-nearest neighbours classifier : 0.774"
   ]
  },
  {
   "cell_type": "markdown",
   "metadata": {},
   "source": [
    "**Unvariant Selection (1000)**\n",
    "\n",
    "La moyenne de tout les scores :\n",
    "+ Decision tree classifier : 0.814\n",
    "+ Support vector machine classifier : 0.849\n",
    "+ k-nearest neighbours classifier : 0.906"
   ]
  },
  {
   "cell_type": "markdown",
   "metadata": {},
   "source": [
    "**Unvariant Selection (2000)**\n",
    "\n",
    "La moyenne de tout les scores :\n",
    "+ Decision tree classifier : 0.764\n",
    "+ Support vector machine classifier : 0.868\n",
    "+ k-nearest neighbours classifier : 0.792"
   ]
  },
  {
   "cell_type": "code",
   "execution_count": null,
   "metadata": {},
   "outputs": [],
   "source": []
  },
  {
   "cell_type": "code",
   "execution_count": null,
   "metadata": {},
   "outputs": [],
   "source": []
  },
  {
   "cell_type": "code",
   "execution_count": null,
   "metadata": {},
   "outputs": [],
   "source": []
  }
 ],
 "metadata": {
  "kernelspec": {
   "display_name": "Python 3",
   "language": "python",
   "name": "python3"
  },
  "language_info": {
   "codemirror_mode": {
    "name": "ipython",
    "version": 3
   },
   "file_extension": ".py",
   "mimetype": "text/x-python",
   "name": "python",
   "nbconvert_exporter": "python",
   "pygments_lexer": "ipython3",
   "version": "3.7.2"
  }
 },
 "nbformat": 4,
 "nbformat_minor": 2
}
