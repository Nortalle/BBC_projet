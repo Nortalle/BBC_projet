{
 "cells": [
  {
   "cell_type": "markdown",
   "metadata": {},
   "source": [
    "# Test pour prédire le type de cancer (microarray data)\n",
    "Flückiger Nathan, Vincent Guidoux et Joel Kaufmann"
   ]
  },
  {
   "cell_type": "markdown",
   "metadata": {},
   "source": [
    "## Préparation des données"
   ]
  },
  {
   "cell_type": "markdown",
   "metadata": {},
   "source": [
    "### Importation des bibliothèques"
   ]
  },
  {
   "cell_type": "code",
   "execution_count": 1,
   "metadata": {},
   "outputs": [],
   "source": [
    "import os\n",
    "import numpy as np\n",
    "import pylab as plt\n",
    "import pandas as pd\n",
    "\n",
    "from Bio import Geo\n",
    "\n",
    "\n",
    "%matplotlib inline"
   ]
  },
  {
   "cell_type": "markdown",
   "metadata": {},
   "source": [
    "### Importation des données"
   ]
  },
  {
   "cell_type": "code",
   "execution_count": 2,
   "metadata": {},
   "outputs": [],
   "source": [
    "def load_geo(myfile):\n",
    "    handle = open(myfile)\n",
    "    records = Geo.parse(handle)\n",
    "    return records"
   ]
  },
  {
   "cell_type": "code",
   "execution_count": 3,
   "metadata": {},
   "outputs": [],
   "source": [
    "records = load_geo('GDS4296.soft')\n",
    "\n",
    "# description of each condition (cell type)\n",
    "id_cond = {}  \n",
    "\n",
    "cancer_set = set()\n",
    "\n",
    "# loop over records\n",
    "for r in records:    \n",
    "    \n",
    "    rea = r.entity_attributes\n",
    "    \n",
    "    #if rea.has_key('subset_sample_id'): \n",
    "    if 'subset_sample_id' in rea:\n",
    "        \n",
    "        # find conditions associated with each cell type\n",
    "        if rea['subset_type']=='disease state':\n",
    "            sample_list = rea['subset_sample_id'].split(',')\n",
    "            desc = rea['subset_description']\n",
    "            cancer_set.add(desc)\n",
    "            for sample in sample_list:\n",
    "                id_cond[sample] = desc\n",
    "\n",
    "    #if rea.has_key('dataset_table_begin'): # it's the gene expression data\n",
    "    if 'dataset_table_begin' in rea:\n",
    "        data = r.table_rows\n",
    "\n",
    "# converts data to an array (more practical to handle)\n",
    "data = np.array(data) "
   ]
  },
  {
   "cell_type": "markdown",
   "metadata": {},
   "source": [
    "**Combien y'a-t-il de cellules cancereuses en tout ?**"
   ]
  },
  {
   "cell_type": "code",
   "execution_count": 4,
   "metadata": {},
   "outputs": [
    {
     "data": {
      "text/plain": [
       "174"
      ]
     },
     "execution_count": 4,
     "metadata": {},
     "output_type": "execute_result"
    }
   ],
   "source": [
    "len(id_cond)"
   ]
  },
  {
   "cell_type": "markdown",
   "metadata": {},
   "source": [
    "**Comment sont-elles réparties ?**"
   ]
  },
  {
   "cell_type": "code",
   "execution_count": 5,
   "metadata": {},
   "outputs": [
    {
     "data": {
      "text/plain": [
       "{'Adenocarcinoma': 60,\n",
       " 'Acute lymphoblastic leukemia': 6,\n",
       " 'Astrocytoma': 3,\n",
       " 'Chronic myelogenous leukemia': 3,\n",
       " 'Carcinoma': 12,\n",
       " 'Carcinosarcoma': 3,\n",
       " 'Clear cell carcinoma': 2,\n",
       " 'Cystoadenocarcinoma': 3,\n",
       " 'Ductal carcinoma': 3,\n",
       " 'Glial cell neoplasm': 3,\n",
       " 'Glioblastoma': 12,\n",
       " 'Large cell carcinoma': 6,\n",
       " 'Lymphoma': 3,\n",
       " 'Malignant amelanotic melanoma': 3,\n",
       " 'Malignant melanotic melanoma': 11,\n",
       " 'Melanotic melanoma': 9,\n",
       " 'Myeloma': 3,\n",
       " 'Papillary infiltrating ductal carcinoma': 3,\n",
       " 'Pro myelocytic leukemia': 3,\n",
       " 'Renal spindle cell carcinoma': 3,\n",
       " 'Renal cell carcinoma': 9,\n",
       " 'Small cell bronchioalveolar carcinoma': 3,\n",
       " 'Squamous cell carcinoma': 2,\n",
       " 'Hypernephroma': 3,\n",
       " 'Infiltrating ductal carcinoma': 3}"
      ]
     },
     "execution_count": 5,
     "metadata": {},
     "output_type": "execute_result"
    }
   ],
   "source": [
    "disease_repartition = {}\n",
    "\n",
    "for disease in id_cond.values():\n",
    "    if disease in disease_repartition.keys():\n",
    "        disease_repartition[disease] = disease_repartition[disease] + 1\n",
    "    else:\n",
    "        disease_repartition[disease] = 1\n",
    "        \n",
    "disease_repartition"
   ]
  },
  {
   "cell_type": "markdown",
   "metadata": {},
   "source": [
    "Aux vues de cette répartition, il nous faut regrouper ces différentes type de cellules, car certains, comme `Squamous cell carcinoma` n'ont que deux cellules, et on ne peut pas se permettre d'en mettre une dans le train-set et une dans le test-set, ce n'est pas assez. Nous allons nous renseigner comment regrouper ces données."
   ]
  },
  {
   "cell_type": "code",
   "execution_count": 6,
   "metadata": {},
   "outputs": [],
   "source": [
    "def category_repartition(category):\n",
    "    \"\"\"Vous nous aider à voir la répartition des différents échantillons dans les catégories que nous allons définir\"\"\"\n",
    "    total = 0\n",
    "    for disease in category:\n",
    "        total += disease_repartition[disease]\n",
    "        \n",
    "    return total"
   ]
  },
  {
   "cell_type": "markdown",
   "metadata": {},
   "source": [
    "**5 catégories ont été choisies :**"
   ]
  },
  {
   "cell_type": "markdown",
   "metadata": {},
   "source": [
    "Adenocarcinoma :"
   ]
  },
  {
   "cell_type": "code",
   "execution_count": 7,
   "metadata": {},
   "outputs": [
    {
     "name": "stdout",
     "output_type": "stream",
     "text": [
      "Il y a 60 échantillons dans cette catégorie\n"
     ]
    }
   ],
   "source": [
    "category_1 = ['Adenocarcinoma']\n",
    "\n",
    "print(\"Il y a {} échantillons dans cette catégorie\".format(category_repartition(category_1)))"
   ]
  },
  {
   "cell_type": "markdown",
   "metadata": {},
   "source": [
    "Other Carcinoma :"
   ]
  },
  {
   "cell_type": "code",
   "execution_count": 8,
   "metadata": {},
   "outputs": [
    {
     "name": "stdout",
     "output_type": "stream",
     "text": [
      "Il y a 55 échantillons dans cette catégorie\n"
     ]
    }
   ],
   "source": [
    "category_2 = [\n",
    "                'Carcinoma',\n",
    "                'Carcinosarcoma',\n",
    "                'Clear cell carcinoma',\n",
    "                'Cystoadenocarcinoma',\n",
    "                'Ductal carcinoma',\n",
    "                'Large cell carcinoma',\n",
    "                'Papillary infiltrating ductal carcinoma',\n",
    "                'Renal spindle cell carcinoma',\n",
    "                'Renal cell carcinoma',\n",
    "                'Small cell bronchioalveolar carcinoma',\n",
    "                'Squamous cell carcinoma',\n",
    "                'Hypernephroma',\n",
    "                'Infiltrating ductal carcinoma'\n",
    "            ]\n",
    "\n",
    "print(\"Il y a {} échantillons dans cette catégorie\".format(category_repartition(category_2)))"
   ]
  },
  {
   "cell_type": "markdown",
   "metadata": {},
   "source": [
    "Leucémie : "
   ]
  },
  {
   "cell_type": "code",
   "execution_count": 9,
   "metadata": {},
   "outputs": [
    {
     "name": "stdout",
     "output_type": "stream",
     "text": [
      "Il y a 18 échantillons dans cette catégorie\n"
     ]
    }
   ],
   "source": [
    "category_3 = [\n",
    "                'Acute lymphoblastic leukemia',\n",
    "                'Chronic myelogenous leukemia',\n",
    "                'Lymphoma',\n",
    "                'Myeloma',\n",
    "                'Pro myelocytic leukemia'\n",
    "            ]\n",
    "\n",
    "print(\"Il y a {} échantillons dans cette catégorie\".format(category_repartition(category_3)))"
   ]
  },
  {
   "cell_type": "markdown",
   "metadata": {},
   "source": [
    "Mélanome :"
   ]
  },
  {
   "cell_type": "code",
   "execution_count": 10,
   "metadata": {},
   "outputs": [
    {
     "name": "stdout",
     "output_type": "stream",
     "text": [
      "Il y a 23 échantillons dans cette catégorie\n"
     ]
    }
   ],
   "source": [
    "category_4 = [\n",
    "                'Malignant amelanotic melanoma',\n",
    "                'Malignant melanotic melanoma',\n",
    "                'Melanotic melanoma'\n",
    "            ]\n",
    "\n",
    "print(\"Il y a {} échantillons dans cette catégorie\".format(category_repartition(category_4)))"
   ]
  },
  {
   "cell_type": "markdown",
   "metadata": {},
   "source": [
    "Cerveau :"
   ]
  },
  {
   "cell_type": "code",
   "execution_count": 11,
   "metadata": {},
   "outputs": [
    {
     "name": "stdout",
     "output_type": "stream",
     "text": [
      "Il y a 18 échantillons dans cette catégorie\n"
     ]
    }
   ],
   "source": [
    "category_5 = [\n",
    "                'Astrocytoma',\n",
    "                'Glial cell neoplasm',\n",
    "                'Glioblastoma'\n",
    "            ]\n",
    "\n",
    "print(\"Il y a {} échantillons dans cette catégorie\".format(category_repartition(category_5)))"
   ]
  },
  {
   "cell_type": "markdown",
   "metadata": {},
   "source": [
    "**Vérifier si les écart-type et moyennes de ces catégories sont logiques, pour confirmer si on a bien choisi**"
   ]
  },
  {
   "cell_type": "markdown",
   "metadata": {},
   "source": [
    "**Ajout de la catégorie**"
   ]
  },
  {
   "cell_type": "code",
   "execution_count": 12,
   "metadata": {},
   "outputs": [
    {
     "data": {
      "text/html": [
       "<div>\n",
       "<style scoped>\n",
       "    .dataframe tbody tr th:only-of-type {\n",
       "        vertical-align: middle;\n",
       "    }\n",
       "\n",
       "    .dataframe tbody tr th {\n",
       "        vertical-align: top;\n",
       "    }\n",
       "\n",
       "    .dataframe thead th {\n",
       "        text-align: right;\n",
       "    }\n",
       "</style>\n",
       "<table border=\"1\" class=\"dataframe\">\n",
       "  <thead>\n",
       "    <tr style=\"text-align: right;\">\n",
       "      <th></th>\n",
       "      <th>IDENTIFIER</th>\n",
       "      <th>GSM803615</th>\n",
       "      <th>GSM803674</th>\n",
       "      <th>GSM803733</th>\n",
       "      <th>GSM803616</th>\n",
       "      <th>GSM803675</th>\n",
       "      <th>GSM803734</th>\n",
       "      <th>GSM803617</th>\n",
       "      <th>GSM803676</th>\n",
       "      <th>GSM803735</th>\n",
       "      <th>...</th>\n",
       "      <th>GSM803785</th>\n",
       "      <th>GSM803671</th>\n",
       "      <th>GSM803729</th>\n",
       "      <th>GSM803786</th>\n",
       "      <th>GSM803672</th>\n",
       "      <th>GSM803730</th>\n",
       "      <th>GSM803787</th>\n",
       "      <th>GSM803673</th>\n",
       "      <th>GSM803731</th>\n",
       "      <th>GSM803788</th>\n",
       "    </tr>\n",
       "  </thead>\n",
       "  <tbody>\n",
       "    <tr>\n",
       "      <th>1007_s_at</th>\n",
       "      <td>DDR1</td>\n",
       "      <td>7.98588</td>\n",
       "      <td>6.60953</td>\n",
       "      <td>7.28692</td>\n",
       "      <td>6.81414</td>\n",
       "      <td>7.17116</td>\n",
       "      <td>7.22437</td>\n",
       "      <td>8.30001</td>\n",
       "      <td>7.97986</td>\n",
       "      <td>6.8234</td>\n",
       "      <td>...</td>\n",
       "      <td>8.76158</td>\n",
       "      <td>8.87174</td>\n",
       "      <td>9.05203</td>\n",
       "      <td>9.02302</td>\n",
       "      <td>7.90743</td>\n",
       "      <td>7.85594</td>\n",
       "      <td>6.90531</td>\n",
       "      <td>10.799</td>\n",
       "      <td>10.8054</td>\n",
       "      <td>10.9599</td>\n",
       "    </tr>\n",
       "    <tr>\n",
       "      <th>1053_at</th>\n",
       "      <td>RFC2</td>\n",
       "      <td>8.91259</td>\n",
       "      <td>8.95833</td>\n",
       "      <td>8.78347</td>\n",
       "      <td>8.68783</td>\n",
       "      <td>8.47835</td>\n",
       "      <td>8.87411</td>\n",
       "      <td>8.48144</td>\n",
       "      <td>8.44854</td>\n",
       "      <td>8.00108</td>\n",
       "      <td>...</td>\n",
       "      <td>9.01109</td>\n",
       "      <td>7.99229</td>\n",
       "      <td>7.89066</td>\n",
       "      <td>7.78652</td>\n",
       "      <td>7.38044</td>\n",
       "      <td>7.94416</td>\n",
       "      <td>8.20352</td>\n",
       "      <td>7.82165</td>\n",
       "      <td>7.71562</td>\n",
       "      <td>7.79544</td>\n",
       "    </tr>\n",
       "    <tr>\n",
       "      <th>117_at</th>\n",
       "      <td>HSPA6</td>\n",
       "      <td>5.95818</td>\n",
       "      <td>5.9552</td>\n",
       "      <td>4.75223</td>\n",
       "      <td>4.96283</td>\n",
       "      <td>5.01497</td>\n",
       "      <td>4.78948</td>\n",
       "      <td>4.66964</td>\n",
       "      <td>4.70403</td>\n",
       "      <td>4.69634</td>\n",
       "      <td>...</td>\n",
       "      <td>5.32821</td>\n",
       "      <td>5.22383</td>\n",
       "      <td>5.24615</td>\n",
       "      <td>4.89699</td>\n",
       "      <td>5.5685</td>\n",
       "      <td>4.93727</td>\n",
       "      <td>5.18978</td>\n",
       "      <td>5.01333</td>\n",
       "      <td>4.98273</td>\n",
       "      <td>4.97768</td>\n",
       "    </tr>\n",
       "    <tr>\n",
       "      <th>121_at</th>\n",
       "      <td>PAX8</td>\n",
       "      <td>7.25647</td>\n",
       "      <td>7.34984</td>\n",
       "      <td>7.03978</td>\n",
       "      <td>7.23067</td>\n",
       "      <td>7.63878</td>\n",
       "      <td>7.45663</td>\n",
       "      <td>7.60143</td>\n",
       "      <td>7.56602</td>\n",
       "      <td>7.27995</td>\n",
       "      <td>...</td>\n",
       "      <td>7.44675</td>\n",
       "      <td>7.36011</td>\n",
       "      <td>7.30075</td>\n",
       "      <td>7.23286</td>\n",
       "      <td>7.3711</td>\n",
       "      <td>7.40892</td>\n",
       "      <td>7.23629</td>\n",
       "      <td>7.2943</td>\n",
       "      <td>7.2762</td>\n",
       "      <td>7.45836</td>\n",
       "    </tr>\n",
       "    <tr>\n",
       "      <th>1255_g_at</th>\n",
       "      <td>GUCA1A</td>\n",
       "      <td>2.70294</td>\n",
       "      <td>2.72227</td>\n",
       "      <td>2.66169</td>\n",
       "      <td>2.79379</td>\n",
       "      <td>2.97056</td>\n",
       "      <td>2.62163</td>\n",
       "      <td>3.09889</td>\n",
       "      <td>2.87228</td>\n",
       "      <td>2.76879</td>\n",
       "      <td>...</td>\n",
       "      <td>2.91059</td>\n",
       "      <td>2.67582</td>\n",
       "      <td>2.74977</td>\n",
       "      <td>2.68969</td>\n",
       "      <td>2.85014</td>\n",
       "      <td>2.794</td>\n",
       "      <td>2.74596</td>\n",
       "      <td>2.74609</td>\n",
       "      <td>2.75365</td>\n",
       "      <td>2.57236</td>\n",
       "    </tr>\n",
       "  </tbody>\n",
       "</table>\n",
       "<p>5 rows × 175 columns</p>\n",
       "</div>"
      ],
      "text/plain": [
       "          IDENTIFIER GSM803615 GSM803674 GSM803733 GSM803616 GSM803675  \\\n",
       "1007_s_at       DDR1   7.98588   6.60953   7.28692   6.81414   7.17116   \n",
       "1053_at         RFC2   8.91259   8.95833   8.78347   8.68783   8.47835   \n",
       "117_at         HSPA6   5.95818    5.9552   4.75223   4.96283   5.01497   \n",
       "121_at          PAX8   7.25647   7.34984   7.03978   7.23067   7.63878   \n",
       "1255_g_at     GUCA1A   2.70294   2.72227   2.66169   2.79379   2.97056   \n",
       "\n",
       "          GSM803734 GSM803617 GSM803676 GSM803735  ... GSM803785 GSM803671  \\\n",
       "1007_s_at   7.22437   8.30001   7.97986    6.8234  ...   8.76158   8.87174   \n",
       "1053_at     8.87411   8.48144   8.44854   8.00108  ...   9.01109   7.99229   \n",
       "117_at      4.78948   4.66964   4.70403   4.69634  ...   5.32821   5.22383   \n",
       "121_at      7.45663   7.60143   7.56602   7.27995  ...   7.44675   7.36011   \n",
       "1255_g_at   2.62163   3.09889   2.87228   2.76879  ...   2.91059   2.67582   \n",
       "\n",
       "          GSM803729 GSM803786 GSM803672 GSM803730 GSM803787 GSM803673  \\\n",
       "1007_s_at   9.05203   9.02302   7.90743   7.85594   6.90531    10.799   \n",
       "1053_at     7.89066   7.78652   7.38044   7.94416   8.20352   7.82165   \n",
       "117_at      5.24615   4.89699    5.5685   4.93727   5.18978   5.01333   \n",
       "121_at      7.30075   7.23286    7.3711   7.40892   7.23629    7.2943   \n",
       "1255_g_at   2.74977   2.68969   2.85014     2.794   2.74596   2.74609   \n",
       "\n",
       "          GSM803731 GSM803788  \n",
       "1007_s_at   10.8054   10.9599  \n",
       "1053_at     7.71562   7.79544  \n",
       "117_at      4.98273   4.97768  \n",
       "121_at       7.2762   7.45836  \n",
       "1255_g_at   2.75365   2.57236  \n",
       "\n",
       "[5 rows x 175 columns]"
      ]
     },
     "execution_count": 12,
     "metadata": {},
     "output_type": "execute_result"
    }
   ],
   "source": [
    "dataDF_raw = pd.DataFrame(data=data[1:,1:], index=data[1:,0],columns=data[0,1:])\n",
    "dataDF_raw.head()"
   ]
  },
  {
   "cell_type": "code",
   "execution_count": 13,
   "metadata": {},
   "outputs": [],
   "source": [
    "# transposée pour avoir cellule avec les features de ML en lignes\n",
    "dataDF = pd.DataFrame(data=data[1:,1:], index=data[1:,0],columns=data[0,1:]).transpose() \n",
    "\n",
    "dataDF = dataDF.drop('IDENTIFIER') # IDENTIFIER pas utilisé\n",
    "dataDF = dataDF.iloc[:,:].astype('float64')\n",
    "dataDF.insert(0, \"category\", 1,allow_duplicates=True) # création d'une colonne pour les catégorie de regroupement"
   ]
  },
  {
   "cell_type": "code",
   "execution_count": 14,
   "metadata": {},
   "outputs": [
    {
     "data": {
      "text/html": [
       "<div>\n",
       "<style scoped>\n",
       "    .dataframe tbody tr th:only-of-type {\n",
       "        vertical-align: middle;\n",
       "    }\n",
       "\n",
       "    .dataframe tbody tr th {\n",
       "        vertical-align: top;\n",
       "    }\n",
       "\n",
       "    .dataframe thead th {\n",
       "        text-align: right;\n",
       "    }\n",
       "</style>\n",
       "<table border=\"1\" class=\"dataframe\">\n",
       "  <thead>\n",
       "    <tr style=\"text-align: right;\">\n",
       "      <th></th>\n",
       "      <th>category</th>\n",
       "      <th>1007_s_at</th>\n",
       "      <th>1053_at</th>\n",
       "      <th>117_at</th>\n",
       "      <th>121_at</th>\n",
       "      <th>1255_g_at</th>\n",
       "      <th>1294_at</th>\n",
       "      <th>1316_at</th>\n",
       "      <th>1320_at</th>\n",
       "      <th>1405_i_at</th>\n",
       "      <th>...</th>\n",
       "      <th>AFFX-r2-Ec-bioD-3_at</th>\n",
       "      <th>AFFX-r2-Ec-bioD-5_at</th>\n",
       "      <th>AFFX-r2-P1-cre-3_at</th>\n",
       "      <th>AFFX-r2-P1-cre-5_at</th>\n",
       "      <th>AFFX-ThrX-3_at</th>\n",
       "      <th>AFFX-ThrX-5_at</th>\n",
       "      <th>AFFX-ThrX-M_at</th>\n",
       "      <th>AFFX-TrpnX-3_at</th>\n",
       "      <th>AFFX-TrpnX-5_at</th>\n",
       "      <th>AFFX-TrpnX-M_at</th>\n",
       "    </tr>\n",
       "  </thead>\n",
       "  <tbody>\n",
       "    <tr>\n",
       "      <th>GSM803615</th>\n",
       "      <td>3</td>\n",
       "      <td>7.98588</td>\n",
       "      <td>8.91259</td>\n",
       "      <td>5.95818</td>\n",
       "      <td>7.25647</td>\n",
       "      <td>2.70294</td>\n",
       "      <td>7.31083</td>\n",
       "      <td>4.93041</td>\n",
       "      <td>4.50100</td>\n",
       "      <td>2.79874</td>\n",
       "      <td>...</td>\n",
       "      <td>2.45076</td>\n",
       "      <td>3.53323</td>\n",
       "      <td>2.74954</td>\n",
       "      <td>3.15915</td>\n",
       "      <td>3.62218</td>\n",
       "      <td>3.36355</td>\n",
       "      <td>2.67324</td>\n",
       "      <td>2.72860</td>\n",
       "      <td>3.29524</td>\n",
       "      <td>2.80815</td>\n",
       "    </tr>\n",
       "    <tr>\n",
       "      <th>GSM803674</th>\n",
       "      <td>3</td>\n",
       "      <td>6.60953</td>\n",
       "      <td>8.95833</td>\n",
       "      <td>5.95520</td>\n",
       "      <td>7.34984</td>\n",
       "      <td>2.72227</td>\n",
       "      <td>6.82958</td>\n",
       "      <td>5.11308</td>\n",
       "      <td>4.64615</td>\n",
       "      <td>2.72531</td>\n",
       "      <td>...</td>\n",
       "      <td>2.45229</td>\n",
       "      <td>3.55865</td>\n",
       "      <td>2.97269</td>\n",
       "      <td>2.99266</td>\n",
       "      <td>3.77177</td>\n",
       "      <td>3.38203</td>\n",
       "      <td>2.88409</td>\n",
       "      <td>2.70408</td>\n",
       "      <td>3.29139</td>\n",
       "      <td>3.09778</td>\n",
       "    </tr>\n",
       "    <tr>\n",
       "      <th>GSM803733</th>\n",
       "      <td>3</td>\n",
       "      <td>7.28692</td>\n",
       "      <td>8.78347</td>\n",
       "      <td>4.75223</td>\n",
       "      <td>7.03978</td>\n",
       "      <td>2.66169</td>\n",
       "      <td>6.80481</td>\n",
       "      <td>5.10009</td>\n",
       "      <td>4.29090</td>\n",
       "      <td>2.78749</td>\n",
       "      <td>...</td>\n",
       "      <td>2.58546</td>\n",
       "      <td>3.25001</td>\n",
       "      <td>2.71918</td>\n",
       "      <td>2.97779</td>\n",
       "      <td>3.76105</td>\n",
       "      <td>3.27553</td>\n",
       "      <td>2.64535</td>\n",
       "      <td>2.74768</td>\n",
       "      <td>3.21011</td>\n",
       "      <td>2.99015</td>\n",
       "    </tr>\n",
       "    <tr>\n",
       "      <th>GSM803616</th>\n",
       "      <td>3</td>\n",
       "      <td>6.81414</td>\n",
       "      <td>8.68783</td>\n",
       "      <td>4.96283</td>\n",
       "      <td>7.23067</td>\n",
       "      <td>2.79379</td>\n",
       "      <td>6.90361</td>\n",
       "      <td>4.89782</td>\n",
       "      <td>4.54651</td>\n",
       "      <td>7.99732</td>\n",
       "      <td>...</td>\n",
       "      <td>2.48428</td>\n",
       "      <td>3.59843</td>\n",
       "      <td>2.90260</td>\n",
       "      <td>3.13846</td>\n",
       "      <td>3.91334</td>\n",
       "      <td>3.14986</td>\n",
       "      <td>3.16415</td>\n",
       "      <td>2.78068</td>\n",
       "      <td>3.22221</td>\n",
       "      <td>2.99241</td>\n",
       "    </tr>\n",
       "    <tr>\n",
       "      <th>GSM803675</th>\n",
       "      <td>3</td>\n",
       "      <td>7.17116</td>\n",
       "      <td>8.47835</td>\n",
       "      <td>5.01497</td>\n",
       "      <td>7.63878</td>\n",
       "      <td>2.97056</td>\n",
       "      <td>6.70489</td>\n",
       "      <td>5.29439</td>\n",
       "      <td>4.84493</td>\n",
       "      <td>7.48446</td>\n",
       "      <td>...</td>\n",
       "      <td>2.90313</td>\n",
       "      <td>3.56928</td>\n",
       "      <td>3.01864</td>\n",
       "      <td>2.95408</td>\n",
       "      <td>3.67145</td>\n",
       "      <td>3.89064</td>\n",
       "      <td>3.00442</td>\n",
       "      <td>2.72479</td>\n",
       "      <td>3.40582</td>\n",
       "      <td>3.01408</td>\n",
       "    </tr>\n",
       "  </tbody>\n",
       "</table>\n",
       "<p>5 rows × 54676 columns</p>\n",
       "</div>"
      ],
      "text/plain": [
       "           category  1007_s_at  1053_at   117_at   121_at  1255_g_at  1294_at  \\\n",
       "GSM803615         3    7.98588  8.91259  5.95818  7.25647    2.70294  7.31083   \n",
       "GSM803674         3    6.60953  8.95833  5.95520  7.34984    2.72227  6.82958   \n",
       "GSM803733         3    7.28692  8.78347  4.75223  7.03978    2.66169  6.80481   \n",
       "GSM803616         3    6.81414  8.68783  4.96283  7.23067    2.79379  6.90361   \n",
       "GSM803675         3    7.17116  8.47835  5.01497  7.63878    2.97056  6.70489   \n",
       "\n",
       "           1316_at  1320_at  1405_i_at  ...  AFFX-r2-Ec-bioD-3_at  \\\n",
       "GSM803615  4.93041  4.50100    2.79874  ...               2.45076   \n",
       "GSM803674  5.11308  4.64615    2.72531  ...               2.45229   \n",
       "GSM803733  5.10009  4.29090    2.78749  ...               2.58546   \n",
       "GSM803616  4.89782  4.54651    7.99732  ...               2.48428   \n",
       "GSM803675  5.29439  4.84493    7.48446  ...               2.90313   \n",
       "\n",
       "           AFFX-r2-Ec-bioD-5_at  AFFX-r2-P1-cre-3_at  AFFX-r2-P1-cre-5_at  \\\n",
       "GSM803615               3.53323              2.74954              3.15915   \n",
       "GSM803674               3.55865              2.97269              2.99266   \n",
       "GSM803733               3.25001              2.71918              2.97779   \n",
       "GSM803616               3.59843              2.90260              3.13846   \n",
       "GSM803675               3.56928              3.01864              2.95408   \n",
       "\n",
       "           AFFX-ThrX-3_at  AFFX-ThrX-5_at  AFFX-ThrX-M_at  AFFX-TrpnX-3_at  \\\n",
       "GSM803615         3.62218         3.36355         2.67324          2.72860   \n",
       "GSM803674         3.77177         3.38203         2.88409          2.70408   \n",
       "GSM803733         3.76105         3.27553         2.64535          2.74768   \n",
       "GSM803616         3.91334         3.14986         3.16415          2.78068   \n",
       "GSM803675         3.67145         3.89064         3.00442          2.72479   \n",
       "\n",
       "           AFFX-TrpnX-5_at  AFFX-TrpnX-M_at  \n",
       "GSM803615          3.29524          2.80815  \n",
       "GSM803674          3.29139          3.09778  \n",
       "GSM803733          3.21011          2.99015  \n",
       "GSM803616          3.22221          2.99241  \n",
       "GSM803675          3.40582          3.01408  \n",
       "\n",
       "[5 rows x 54676 columns]"
      ]
     },
     "execution_count": 14,
     "metadata": {},
     "output_type": "execute_result"
    }
   ],
   "source": [
    "# set the rigth category for each cell\n",
    "all_categories = [category_1, category_2, category_3, category_4, category_5] # liste de listes\n",
    "category_column = []\n",
    "\n",
    "for index, row in dataDF.iterrows():\n",
    "    for cat_index in range(len(all_categories)):\n",
    "        if id_cond[index] in all_categories[cat_index]:\n",
    "            category_column.append(cat_index + 1) # indices 1-5\n",
    "            break      \n",
    "\n",
    "dataDF['category'] = category_column\n",
    "dataDF.head()"
   ]
  },
  {
   "cell_type": "code",
   "execution_count": 15,
   "metadata": {},
   "outputs": [
    {
     "data": {
      "text/plain": [
       "count    174.000000\n",
       "mean       9.198371\n",
       "std        1.013861\n",
       "min        6.598980\n",
       "25%        8.653343\n",
       "50%        9.248630\n",
       "75%        9.887240\n",
       "max       11.703400\n",
       "Name: 1007_s_at, dtype: float64"
      ]
     },
     "execution_count": 15,
     "metadata": {},
     "output_type": "execute_result"
    }
   ],
   "source": [
    "dataDF['1007_s_at'].describe()"
   ]
  },
  {
   "cell_type": "markdown",
   "metadata": {},
   "source": [
    "**Vérification**"
   ]
  },
  {
   "cell_type": "code",
   "execution_count": 16,
   "metadata": {},
   "outputs": [],
   "source": [
    "# séparation des cellules par catégories\n",
    "cat1_df = dataDF[dataDF['category'] == 1]\n",
    "cat2_df = dataDF[dataDF['category'] == 2] \n",
    "cat3_df = dataDF[dataDF['category'] == 3] \n",
    "cat4_df = dataDF[dataDF['category'] == 4] \n",
    "cat5_df = dataDF[dataDF['category'] == 5]"
   ]
  },
  {
   "cell_type": "code",
   "execution_count": 17,
   "metadata": {},
   "outputs": [
    {
     "name": "stdout",
     "output_type": "stream",
     "text": [
      "Nombre d'échantillons par catégorie\n",
      "1 : 60 \n",
      "2 : 55 \n",
      "3 : 18 \n",
      "4 : 23 \n",
      "5 : 18 \n",
      "\n",
      "\n"
     ]
    }
   ],
   "source": [
    "print(\"Nombre d'échantillons par catégorie\")\n",
    "print('1 :',len(cat1_df), '\\n2 :',len(cat2_df), '\\n3 :',len(cat3_df), '\\n4 :',len(cat4_df), '\\n5 :',len(cat5_df), '\\n\\n')    "
   ]
  },
  {
   "cell_type": "markdown",
   "metadata": {},
   "source": [
    "Ensuite, il faut séparer les données de test et d'entraînement :\n",
    "\n",
    "![coucou](./images/test_train_diagram.png)\n",
    "\n",
    "Ce diagramme se trouve ici si on veut le modifier : [draw.io](https://drive.google.com/file/d/1mcjHukPsXNBmaIeI8rkmtCZdjN7z8OEm/view?usp=sharing)\n",
    "\n",
    "Pour cette étape, on peut s'inspirer du code du labo 3-4 de BBC : "
   ]
  },
  {
   "cell_type": "code",
   "execution_count": 19,
   "metadata": {},
   "outputs": [],
   "source": [
    "# Labo 3-4 BBC :\n",
    "# divide the set into two sets: a train set and a test set for future validations\n",
    "# idx_test = [5,11,19,28,54,61]  # Soit on prend un pourcentage soit on en choisit genre 3 par catégories\n",
    "# idx_train = list(range(0,len(id_cond)+2)) \n",
    "# [idx_train.remove(i) for i in idx_test] # on enlève les données de test\n",
    "\n",
    "# data_test = data[:,idx_test]\n",
    "# data = data[:,idx_train]\n",
    "\n",
    "# print(np.shape(data))\n",
    "# print(np.shape(data_test))"
   ]
  },
  {
   "cell_type": "markdown",
   "metadata": {},
   "source": [
    "Et Maintenant il faut voir pour ces écart-type"
   ]
  },
  {
   "cell_type": "markdown",
   "metadata": {},
   "source": []
  },
  {
   "cell_type": "markdown",
   "metadata": {},
   "source": []
  },
  {
   "cell_type": "markdown",
   "metadata": {},
   "source": []
  },
  {
   "cell_type": "markdown",
   "metadata": {},
   "source": [
    "un endroit par là, il y a les fonctions à Guidoux qui diminue le nombre de variable de 50'000 a plus petit, pourquoi on utilise pas les méthodes du labo 3-4 ? Parce que c'était un problème à deux classes, et là on est multi classe ?\n",
    "\n",
    "\n",
    "Les guidoux méthodes sont dans ce [google colab notebook](https://colab.research.google.com/drive/1rWg2k7-RtgJfzjacYNNY33m00WGDRxRq) à \n",
    "+ Méthode 1 - Unvariant Selection\n",
    "+ Methode 4 - Recursive features elimination\n",
    "\n",
    "Mais au premier abord, il faudrait échanger les lignes et les colonnes, et mettre les catégories dans un autre tableau"
   ]
  },
  {
   "cell_type": "markdown",
   "metadata": {},
   "source": []
  },
  {
   "cell_type": "markdown",
   "metadata": {},
   "source": []
  },
  {
   "cell_type": "markdown",
   "metadata": {},
   "source": []
  },
  {
   "cell_type": "markdown",
   "metadata": {},
   "source": [
    "Même s'il manque les méthodes à Guidoux, ce serait bien de mettre les méthodes à Joël pour la classification, au moins une des 3 : \n",
    "\n",
    "+ Decision tree classifier\n",
    "+ Support vector machine classifier\n",
    "+ k-nearest neighbours classifier\n"
   ]
  },
  {
   "cell_type": "markdown",
   "metadata": {},
   "source": []
  }
 ],
 "metadata": {
  "kernelspec": {
   "display_name": "Python 3",
   "language": "python",
   "name": "python3"
  },
  "language_info": {
   "codemirror_mode": {
    "name": "ipython",
    "version": 3
   },
   "file_extension": ".py",
   "mimetype": "text/x-python",
   "name": "python",
   "nbconvert_exporter": "python",
   "pygments_lexer": "ipython3",
   "version": "3.6.8"
  }
 },
 "nbformat": 4,
 "nbformat_minor": 2
}
