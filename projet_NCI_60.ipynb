{
 "cells": [
  {
   "cell_type": "markdown",
   "metadata": {},
   "source": [
    "# Test pour prédire le type de cancer (microarray data)\n",
    "Flückiger Nathan, Vincent Guidoux et Joel Kaufmann"
   ]
  },
  {
   "cell_type": "markdown",
   "metadata": {},
   "source": [
    "## Préparation des données"
   ]
  },
  {
   "cell_type": "markdown",
   "metadata": {},
   "source": [
    "### Importation des bibliothèques"
   ]
  },
  {
   "cell_type": "code",
   "execution_count": 1,
   "metadata": {},
   "outputs": [],
   "source": [
    "import os\n",
    "import numpy as np\n",
    "import pylab as plt\n",
    "import pandas as pd\n",
    "\n",
    "from Bio import Geo\n",
    "\n",
    "\n",
    "%matplotlib inline"
   ]
  },
  {
   "cell_type": "markdown",
   "metadata": {},
   "source": [
    "### Importation des données"
   ]
  },
  {
   "cell_type": "code",
   "execution_count": 2,
   "metadata": {},
   "outputs": [],
   "source": [
    "def load_geo(myfile):\n",
    "    handle = open(myfile)\n",
    "    records = Geo.parse(handle)\n",
    "    return records"
   ]
  },
  {
   "cell_type": "code",
   "execution_count": 3,
   "metadata": {},
   "outputs": [],
   "source": [
    "records = load_geo('GDS4296.soft')\n",
    "\n",
    "# description of each condition (cell type)\n",
    "id_cond = {}  \n",
    "\n",
    "cancer_set = set()\n",
    "\n",
    "# loop over records\n",
    "for r in records:    \n",
    "    \n",
    "    rea = r.entity_attributes\n",
    "    \n",
    "    #if rea.has_key('subset_sample_id'): \n",
    "    if 'subset_sample_id' in rea:\n",
    "        \n",
    "        # find conditions associated with each cell type\n",
    "        if rea['subset_type']=='disease state':\n",
    "            sample_list = rea['subset_sample_id'].split(',')\n",
    "            desc = rea['subset_description']\n",
    "            cancer_set.add(desc)\n",
    "            for sample in sample_list:\n",
    "                id_cond[sample] = desc\n",
    "\n",
    "    #if rea.has_key('dataset_table_begin'): # it's the gene expression data\n",
    "    if 'dataset_table_begin' in rea:\n",
    "        data = r.table_rows\n",
    "\n",
    "# converts data to an array (more practical to handle)\n",
    "data = np.array(data) "
   ]
  },
  {
   "cell_type": "markdown",
   "metadata": {},
   "source": [
    "**Combien y'a-t-il de cellules cancereuses en tout ?**"
   ]
  },
  {
   "cell_type": "code",
   "execution_count": 4,
   "metadata": {},
   "outputs": [
    {
     "data": {
      "text/plain": [
       "174"
      ]
     },
     "execution_count": 4,
     "metadata": {},
     "output_type": "execute_result"
    }
   ],
   "source": [
    "len(id_cond)"
   ]
  },
  {
   "cell_type": "markdown",
   "metadata": {},
   "source": [
    "**Comment sont-elles réparties ?**"
   ]
  },
  {
   "cell_type": "code",
   "execution_count": 5,
   "metadata": {},
   "outputs": [
    {
     "data": {
      "text/plain": [
       "{'Adenocarcinoma': 60,\n",
       " 'Acute lymphoblastic leukemia': 6,\n",
       " 'Astrocytoma': 3,\n",
       " 'Chronic myelogenous leukemia': 3,\n",
       " 'Carcinoma': 12,\n",
       " 'Carcinosarcoma': 3,\n",
       " 'Clear cell carcinoma': 2,\n",
       " 'Cystoadenocarcinoma': 3,\n",
       " 'Ductal carcinoma': 3,\n",
       " 'Glial cell neoplasm': 3,\n",
       " 'Glioblastoma': 12,\n",
       " 'Large cell carcinoma': 6,\n",
       " 'Lymphoma': 3,\n",
       " 'Malignant amelanotic melanoma': 3,\n",
       " 'Malignant melanotic melanoma': 11,\n",
       " 'Melanotic melanoma': 9,\n",
       " 'Myeloma': 3,\n",
       " 'Papillary infiltrating ductal carcinoma': 3,\n",
       " 'Pro myelocytic leukemia': 3,\n",
       " 'Renal spindle cell carcinoma': 3,\n",
       " 'Renal cell carcinoma': 9,\n",
       " 'Small cell bronchioalveolar carcinoma': 3,\n",
       " 'Squamous cell carcinoma': 2,\n",
       " 'Hypernephroma': 3,\n",
       " 'Infiltrating ductal carcinoma': 3}"
      ]
     },
     "execution_count": 5,
     "metadata": {},
     "output_type": "execute_result"
    }
   ],
   "source": [
    "disease_repartition = {}\n",
    "\n",
    "for disease in id_cond.values():\n",
    "    if disease in disease_repartition.keys():\n",
    "        disease_repartition[disease] = disease_repartition[disease] + 1\n",
    "    else:\n",
    "        disease_repartition[disease] = 1\n",
    "        \n",
    "disease_repartition"
   ]
  },
  {
   "cell_type": "markdown",
   "metadata": {},
   "source": [
    "Aux vues de cette répartition, il nous faut regrouper ces différentes type de cellules, car certains, comme `Squamous cell carcinoma` n'ont que deux cellules, et on ne peut pas se permettre d'en mettre une dans le train-set et une dans le test-set, ce n'est pas assez. Nous allons nous renseigner comment regrouper ces données."
   ]
  },
  {
   "cell_type": "code",
   "execution_count": null,
   "metadata": {},
   "outputs": [],
   "source": []
  }
 ],
 "metadata": {
  "kernelspec": {
   "display_name": "Python 3",
   "language": "python",
   "name": "python3"
  },
  "language_info": {
   "codemirror_mode": {
    "name": "ipython",
    "version": 3
   },
   "file_extension": ".py",
   "mimetype": "text/x-python",
   "name": "python",
   "nbconvert_exporter": "python",
   "pygments_lexer": "ipython3",
   "version": "3.7.2"
  }
 },
 "nbformat": 4,
 "nbformat_minor": 2
}
